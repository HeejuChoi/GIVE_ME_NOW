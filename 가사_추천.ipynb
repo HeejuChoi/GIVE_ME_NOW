{
  "nbformat": 4,
  "nbformat_minor": 0,
  "metadata": {
    "colab": {
      "name": "가사_추천.ipynb",
      "provenance": [],
      "collapsed_sections": []
    },
    "kernelspec": {
      "name": "python3",
      "display_name": "Python 3"
    },
    "language_info": {
      "name": "python"
    }
  },
  "cells": [
    {
      "cell_type": "code",
      "execution_count": 1,
      "metadata": {
        "colab": {
          "base_uri": "https://localhost:8080/"
        },
        "id": "CpDd714uNTwD",
        "outputId": "d798d332-fb27-4b53-ad71-5d9d0001edc2"
      },
      "outputs": [
        {
          "output_type": "stream",
          "name": "stdout",
          "text": [
            "Mounted at /content/drive\n"
          ]
        }
      ],
      "source": [
        "from google.colab import drive\n",
        "drive.mount('/content/drive')"
      ]
    },
    {
      "cell_type": "code",
      "source": [
        "import pandas as pd\n",
        "import pickle\n",
        "import numpy as np"
      ],
      "metadata": {
        "id": "xSnbJAIKOiZl"
      },
      "execution_count": 2,
      "outputs": []
    },
    {
      "cell_type": "code",
      "source": [
        "with open('/content/drive/MyDrive/프로젝트/data/song_info_3.p', 'rb') as f:\n",
        "    song_info = pickle.load(f)"
      ],
      "metadata": {
        "id": "Zr_zsWA3OH7r"
      },
      "execution_count": 21,
      "outputs": []
    },
    {
      "cell_type": "code",
      "source": [
        "with open('/content/drive/MyDrive/프로젝트/song_info_add_kfork.p', 'rb') as f:\n",
        "    song_info2 = pickle.load(f)\n",
        "song_info2"
      ],
      "metadata": {
        "id": "KjbYyjlpQo5h"
      },
      "execution_count": null,
      "outputs": []
    },
    {
      "cell_type": "code",
      "source": [
        "df1 = pd.DataFrame(song_info, columns = ['title', 'artist','lyric','genre'])\n",
        "df1"
      ],
      "metadata": {
        "colab": {
          "base_uri": "https://localhost:8080/",
          "height": 572
        },
        "id": "mkv9F6OfQNHp",
        "outputId": "5dfce1a4-fca9-4b93-f6b6-be3d32052b4a"
      },
      "execution_count": 23,
      "outputs": [
        {
          "output_type": "execute_result",
          "data": {
            "text/plain": [
              "                     title             artist  \\\n",
              "0                  내 손을 잡아                아이유   \n",
              "1      너의 모든 순간 (Original)                성시경   \n",
              "2                 Timeless             SG 워너비   \n",
              "3             바람이 불었으면 좋겠어               길구봉구   \n",
              "4               봄 사랑 벚꽃 말고        HIGH4 (하이포)   \n",
              "...                    ...                ...   \n",
              "2529      Goodbye My Lover        James Blunt   \n",
              "2530                   Try     Colbie Caillat   \n",
              "2531  It's a Beautiful Day      Michael Buble   \n",
              "2532            Skyscraper        Demi Lovato   \n",
              "2533               Mirrors  Justin Timberlake   \n",
              "\n",
              "                                                  lyric  genre  \n",
              "0     [느낌이 오잖아, 떨리고 있잖아, 언제까지 눈치만 볼 거니, 네 맘을 말해봐, 딴청...  balad  \n",
              "1     [이윽고 내가 한눈에, 너를 알아봤을 때, 모든 건 분명 달라지고 있었어, 내 세상...  balad  \n",
              "2     [어쩜 살아가다 보면, 한 번은 날 찾을지 몰라, 난 그 기대 하나로, 오늘도 힘겹...  balad  \n",
              "3     [웃는 모습이 너무 아름다운, 그런 너를 기억하면서, 괜찮아 넌 잘할거라 말하던, ...  balad  \n",
              "4     [길었던 겨우내 줄곧 품이 좀 남는, 밤색 코트, 그 속에 나를 쏙 감추고 걸음을,...  balad  \n",
              "...                                                 ...    ...  \n",
              "2529  [Did I disappoint you or let you down?, Should...    pop  \n",
              "2530  [Put your make up on, Get your nails done, Cur...    pop  \n",
              "2531  [I don't know why, You think that you could ho...    pop  \n",
              "2532  [Skies are crying I am watching, Catching tear...    pop  \n",
              "2533  [Aren't you somethin' to admire, Cause your sh...    pop  \n",
              "\n",
              "[2534 rows x 4 columns]"
            ],
            "text/html": [
              "\n",
              "  <div id=\"df-195dafe3-3456-4031-8b96-c5e6fc318e15\">\n",
              "    <div class=\"colab-df-container\">\n",
              "      <div>\n",
              "<style scoped>\n",
              "    .dataframe tbody tr th:only-of-type {\n",
              "        vertical-align: middle;\n",
              "    }\n",
              "\n",
              "    .dataframe tbody tr th {\n",
              "        vertical-align: top;\n",
              "    }\n",
              "\n",
              "    .dataframe thead th {\n",
              "        text-align: right;\n",
              "    }\n",
              "</style>\n",
              "<table border=\"1\" class=\"dataframe\">\n",
              "  <thead>\n",
              "    <tr style=\"text-align: right;\">\n",
              "      <th></th>\n",
              "      <th>title</th>\n",
              "      <th>artist</th>\n",
              "      <th>lyric</th>\n",
              "      <th>genre</th>\n",
              "    </tr>\n",
              "  </thead>\n",
              "  <tbody>\n",
              "    <tr>\n",
              "      <th>0</th>\n",
              "      <td>내 손을 잡아</td>\n",
              "      <td>아이유</td>\n",
              "      <td>[느낌이 오잖아, 떨리고 있잖아, 언제까지 눈치만 볼 거니, 네 맘을 말해봐, 딴청...</td>\n",
              "      <td>balad</td>\n",
              "    </tr>\n",
              "    <tr>\n",
              "      <th>1</th>\n",
              "      <td>너의 모든 순간 (Original)</td>\n",
              "      <td>성시경</td>\n",
              "      <td>[이윽고 내가 한눈에, 너를 알아봤을 때, 모든 건 분명 달라지고 있었어, 내 세상...</td>\n",
              "      <td>balad</td>\n",
              "    </tr>\n",
              "    <tr>\n",
              "      <th>2</th>\n",
              "      <td>Timeless</td>\n",
              "      <td>SG 워너비</td>\n",
              "      <td>[어쩜 살아가다 보면, 한 번은 날 찾을지 몰라, 난 그 기대 하나로, 오늘도 힘겹...</td>\n",
              "      <td>balad</td>\n",
              "    </tr>\n",
              "    <tr>\n",
              "      <th>3</th>\n",
              "      <td>바람이 불었으면 좋겠어</td>\n",
              "      <td>길구봉구</td>\n",
              "      <td>[웃는 모습이 너무 아름다운, 그런 너를 기억하면서, 괜찮아 넌 잘할거라 말하던, ...</td>\n",
              "      <td>balad</td>\n",
              "    </tr>\n",
              "    <tr>\n",
              "      <th>4</th>\n",
              "      <td>봄 사랑 벚꽃 말고</td>\n",
              "      <td>HIGH4 (하이포)</td>\n",
              "      <td>[길었던 겨우내 줄곧 품이 좀 남는, 밤색 코트, 그 속에 나를 쏙 감추고 걸음을,...</td>\n",
              "      <td>balad</td>\n",
              "    </tr>\n",
              "    <tr>\n",
              "      <th>...</th>\n",
              "      <td>...</td>\n",
              "      <td>...</td>\n",
              "      <td>...</td>\n",
              "      <td>...</td>\n",
              "    </tr>\n",
              "    <tr>\n",
              "      <th>2529</th>\n",
              "      <td>Goodbye My Lover</td>\n",
              "      <td>James Blunt</td>\n",
              "      <td>[Did I disappoint you or let you down?, Should...</td>\n",
              "      <td>pop</td>\n",
              "    </tr>\n",
              "    <tr>\n",
              "      <th>2530</th>\n",
              "      <td>Try</td>\n",
              "      <td>Colbie Caillat</td>\n",
              "      <td>[Put your make up on, Get your nails done, Cur...</td>\n",
              "      <td>pop</td>\n",
              "    </tr>\n",
              "    <tr>\n",
              "      <th>2531</th>\n",
              "      <td>It's a Beautiful Day</td>\n",
              "      <td>Michael Buble</td>\n",
              "      <td>[I don't know why, You think that you could ho...</td>\n",
              "      <td>pop</td>\n",
              "    </tr>\n",
              "    <tr>\n",
              "      <th>2532</th>\n",
              "      <td>Skyscraper</td>\n",
              "      <td>Demi Lovato</td>\n",
              "      <td>[Skies are crying I am watching, Catching tear...</td>\n",
              "      <td>pop</td>\n",
              "    </tr>\n",
              "    <tr>\n",
              "      <th>2533</th>\n",
              "      <td>Mirrors</td>\n",
              "      <td>Justin Timberlake</td>\n",
              "      <td>[Aren't you somethin' to admire, Cause your sh...</td>\n",
              "      <td>pop</td>\n",
              "    </tr>\n",
              "  </tbody>\n",
              "</table>\n",
              "<p>2534 rows × 4 columns</p>\n",
              "</div>\n",
              "      <button class=\"colab-df-convert\" onclick=\"convertToInteractive('df-195dafe3-3456-4031-8b96-c5e6fc318e15')\"\n",
              "              title=\"Convert this dataframe to an interactive table.\"\n",
              "              style=\"display:none;\">\n",
              "        \n",
              "  <svg xmlns=\"http://www.w3.org/2000/svg\" height=\"24px\"viewBox=\"0 0 24 24\"\n",
              "       width=\"24px\">\n",
              "    <path d=\"M0 0h24v24H0V0z\" fill=\"none\"/>\n",
              "    <path d=\"M18.56 5.44l.94 2.06.94-2.06 2.06-.94-2.06-.94-.94-2.06-.94 2.06-2.06.94zm-11 1L8.5 8.5l.94-2.06 2.06-.94-2.06-.94L8.5 2.5l-.94 2.06-2.06.94zm10 10l.94 2.06.94-2.06 2.06-.94-2.06-.94-.94-2.06-.94 2.06-2.06.94z\"/><path d=\"M17.41 7.96l-1.37-1.37c-.4-.4-.92-.59-1.43-.59-.52 0-1.04.2-1.43.59L10.3 9.45l-7.72 7.72c-.78.78-.78 2.05 0 2.83L4 21.41c.39.39.9.59 1.41.59.51 0 1.02-.2 1.41-.59l7.78-7.78 2.81-2.81c.8-.78.8-2.07 0-2.86zM5.41 20L4 18.59l7.72-7.72 1.47 1.35L5.41 20z\"/>\n",
              "  </svg>\n",
              "      </button>\n",
              "      \n",
              "  <style>\n",
              "    .colab-df-container {\n",
              "      display:flex;\n",
              "      flex-wrap:wrap;\n",
              "      gap: 12px;\n",
              "    }\n",
              "\n",
              "    .colab-df-convert {\n",
              "      background-color: #E8F0FE;\n",
              "      border: none;\n",
              "      border-radius: 50%;\n",
              "      cursor: pointer;\n",
              "      display: none;\n",
              "      fill: #1967D2;\n",
              "      height: 32px;\n",
              "      padding: 0 0 0 0;\n",
              "      width: 32px;\n",
              "    }\n",
              "\n",
              "    .colab-df-convert:hover {\n",
              "      background-color: #E2EBFA;\n",
              "      box-shadow: 0px 1px 2px rgba(60, 64, 67, 0.3), 0px 1px 3px 1px rgba(60, 64, 67, 0.15);\n",
              "      fill: #174EA6;\n",
              "    }\n",
              "\n",
              "    [theme=dark] .colab-df-convert {\n",
              "      background-color: #3B4455;\n",
              "      fill: #D2E3FC;\n",
              "    }\n",
              "\n",
              "    [theme=dark] .colab-df-convert:hover {\n",
              "      background-color: #434B5C;\n",
              "      box-shadow: 0px 1px 3px 1px rgba(0, 0, 0, 0.15);\n",
              "      filter: drop-shadow(0px 1px 2px rgba(0, 0, 0, 0.3));\n",
              "      fill: #FFFFFF;\n",
              "    }\n",
              "  </style>\n",
              "\n",
              "      <script>\n",
              "        const buttonEl =\n",
              "          document.querySelector('#df-195dafe3-3456-4031-8b96-c5e6fc318e15 button.colab-df-convert');\n",
              "        buttonEl.style.display =\n",
              "          google.colab.kernel.accessAllowed ? 'block' : 'none';\n",
              "\n",
              "        async function convertToInteractive(key) {\n",
              "          const element = document.querySelector('#df-195dafe3-3456-4031-8b96-c5e6fc318e15');\n",
              "          const dataTable =\n",
              "            await google.colab.kernel.invokeFunction('convertToInteractive',\n",
              "                                                     [key], {});\n",
              "          if (!dataTable) return;\n",
              "\n",
              "          const docLinkHtml = 'Like what you see? Visit the ' +\n",
              "            '<a target=\"_blank\" href=https://colab.research.google.com/notebooks/data_table.ipynb>data table notebook</a>'\n",
              "            + ' to learn more about interactive tables.';\n",
              "          element.innerHTML = '';\n",
              "          dataTable['output_type'] = 'display_data';\n",
              "          await google.colab.output.renderOutput(dataTable, element);\n",
              "          const docLink = document.createElement('div');\n",
              "          docLink.innerHTML = docLinkHtml;\n",
              "          element.appendChild(docLink);\n",
              "        }\n",
              "      </script>\n",
              "    </div>\n",
              "  </div>\n",
              "  "
            ]
          },
          "metadata": {},
          "execution_count": 23
        }
      ]
    },
    {
      "cell_type": "code",
      "source": [
        "df2 = pd.DataFrame(song_info2, columns = ['title', 'artist','lyric','genre'])\n",
        "df2"
      ],
      "metadata": {
        "colab": {
          "base_uri": "https://localhost:8080/",
          "height": 641
        },
        "id": "reNqyZJQRMiZ",
        "outputId": "26f73a96-6ba6-45d9-a768-40330ac48faf"
      },
      "execution_count": 24,
      "outputs": [
        {
          "output_type": "execute_result",
          "data": {
            "text/plain": [
              "                             title       artist  \\\n",
              "0                 우연이라도 우리 마주치지 말자          송푸름   \n",
              "1                              천천히           안아   \n",
              "2                    그때는 몰랐던 너의 마음  비비안 (BBAHN)   \n",
              "3     시작하는 말 (Feat. 채은경, 문경환, 문성언)           J1   \n",
              "4                              연리목          최정숙   \n",
              "...                            ...          ...   \n",
              "3391                            소녀           뮤뭉   \n",
              "3392                꿈처럼 이내 사라져 버리네          박연두   \n",
              "3393                        과일가게총각   나날(NaaNaL)   \n",
              "3394                      Attitude          이보람   \n",
              "3395                           바다야          홍준영   \n",
              "\n",
              "                                                  lyric  genre  \n",
              "0     [이제 괜찮은 줄 알았는데, 여전히 니가 생각나, 하루 이틀 시간이 지나가도, 나는...  balad  \n",
              "1     [아침에 눈 뜰 때 내 작은 화면에, 꽃피는 설렘을 주는 사람, 하루를 마칠 때 고...  balad  \n",
              "2     [나는 그대 곁이면 모든게 좋았죠, 하나부터 열까지, 다 나를 이해해주던 그대였다는...  balad  \n",
              "3     [여기 이 자리에 모인, 여러분께 해줄 말이 있어요, 우리 함께 축하해요, 새로운 ...  balad  \n",
              "4     [언제나 나를 비켜만 가던, 내 것이 아닐 거라 생각했던, 행복은 멀기만 했네, 그...  balad  \n",
              "...                                                 ...    ...  \n",
              "3391  [손만 닿아도 떨어져버릴 것 같은, 꽃잎 같은 모습을 하고 있는 널 보았어, 아 소...   folk  \n",
              "3392  [바람은 기억하고 있었고, 바다는 널 품에 안고 있었어, 우리는 늘 그렇듯 살며 잊...   folk  \n",
              "3393  [우리 동네 과일가게에서, 일하는 총각이 좋아, 갈색머리 우렁찬 목소리에, 나는 빠...   folk  \n",
              "3394  [빼곡히도 적어 놓았던, 알 수 없던 나의 생각들이, 점점 줄어드는 공간이, don...   folk  \n",
              "3395  [바다야, 너는 아니, 이곳은 너와 나의 첫 만남이었어, 바다야, 너는 아니, 이곳...   folk  \n",
              "\n",
              "[3396 rows x 4 columns]"
            ],
            "text/html": [
              "\n",
              "  <div id=\"df-746a43c1-f788-4391-923e-3bf7451ab151\">\n",
              "    <div class=\"colab-df-container\">\n",
              "      <div>\n",
              "<style scoped>\n",
              "    .dataframe tbody tr th:only-of-type {\n",
              "        vertical-align: middle;\n",
              "    }\n",
              "\n",
              "    .dataframe tbody tr th {\n",
              "        vertical-align: top;\n",
              "    }\n",
              "\n",
              "    .dataframe thead th {\n",
              "        text-align: right;\n",
              "    }\n",
              "</style>\n",
              "<table border=\"1\" class=\"dataframe\">\n",
              "  <thead>\n",
              "    <tr style=\"text-align: right;\">\n",
              "      <th></th>\n",
              "      <th>title</th>\n",
              "      <th>artist</th>\n",
              "      <th>lyric</th>\n",
              "      <th>genre</th>\n",
              "    </tr>\n",
              "  </thead>\n",
              "  <tbody>\n",
              "    <tr>\n",
              "      <th>0</th>\n",
              "      <td>우연이라도 우리 마주치지 말자</td>\n",
              "      <td>송푸름</td>\n",
              "      <td>[이제 괜찮은 줄 알았는데, 여전히 니가 생각나, 하루 이틀 시간이 지나가도, 나는...</td>\n",
              "      <td>balad</td>\n",
              "    </tr>\n",
              "    <tr>\n",
              "      <th>1</th>\n",
              "      <td>천천히</td>\n",
              "      <td>안아</td>\n",
              "      <td>[아침에 눈 뜰 때 내 작은 화면에, 꽃피는 설렘을 주는 사람, 하루를 마칠 때 고...</td>\n",
              "      <td>balad</td>\n",
              "    </tr>\n",
              "    <tr>\n",
              "      <th>2</th>\n",
              "      <td>그때는 몰랐던 너의 마음</td>\n",
              "      <td>비비안 (BBAHN)</td>\n",
              "      <td>[나는 그대 곁이면 모든게 좋았죠, 하나부터 열까지, 다 나를 이해해주던 그대였다는...</td>\n",
              "      <td>balad</td>\n",
              "    </tr>\n",
              "    <tr>\n",
              "      <th>3</th>\n",
              "      <td>시작하는 말 (Feat. 채은경, 문경환, 문성언)</td>\n",
              "      <td>J1</td>\n",
              "      <td>[여기 이 자리에 모인, 여러분께 해줄 말이 있어요, 우리 함께 축하해요, 새로운 ...</td>\n",
              "      <td>balad</td>\n",
              "    </tr>\n",
              "    <tr>\n",
              "      <th>4</th>\n",
              "      <td>연리목</td>\n",
              "      <td>최정숙</td>\n",
              "      <td>[언제나 나를 비켜만 가던, 내 것이 아닐 거라 생각했던, 행복은 멀기만 했네, 그...</td>\n",
              "      <td>balad</td>\n",
              "    </tr>\n",
              "    <tr>\n",
              "      <th>...</th>\n",
              "      <td>...</td>\n",
              "      <td>...</td>\n",
              "      <td>...</td>\n",
              "      <td>...</td>\n",
              "    </tr>\n",
              "    <tr>\n",
              "      <th>3391</th>\n",
              "      <td>소녀</td>\n",
              "      <td>뮤뭉</td>\n",
              "      <td>[손만 닿아도 떨어져버릴 것 같은, 꽃잎 같은 모습을 하고 있는 널 보았어, 아 소...</td>\n",
              "      <td>folk</td>\n",
              "    </tr>\n",
              "    <tr>\n",
              "      <th>3392</th>\n",
              "      <td>꿈처럼 이내 사라져 버리네</td>\n",
              "      <td>박연두</td>\n",
              "      <td>[바람은 기억하고 있었고, 바다는 널 품에 안고 있었어, 우리는 늘 그렇듯 살며 잊...</td>\n",
              "      <td>folk</td>\n",
              "    </tr>\n",
              "    <tr>\n",
              "      <th>3393</th>\n",
              "      <td>과일가게총각</td>\n",
              "      <td>나날(NaaNaL)</td>\n",
              "      <td>[우리 동네 과일가게에서, 일하는 총각이 좋아, 갈색머리 우렁찬 목소리에, 나는 빠...</td>\n",
              "      <td>folk</td>\n",
              "    </tr>\n",
              "    <tr>\n",
              "      <th>3394</th>\n",
              "      <td>Attitude</td>\n",
              "      <td>이보람</td>\n",
              "      <td>[빼곡히도 적어 놓았던, 알 수 없던 나의 생각들이, 점점 줄어드는 공간이, don...</td>\n",
              "      <td>folk</td>\n",
              "    </tr>\n",
              "    <tr>\n",
              "      <th>3395</th>\n",
              "      <td>바다야</td>\n",
              "      <td>홍준영</td>\n",
              "      <td>[바다야, 너는 아니, 이곳은 너와 나의 첫 만남이었어, 바다야, 너는 아니, 이곳...</td>\n",
              "      <td>folk</td>\n",
              "    </tr>\n",
              "  </tbody>\n",
              "</table>\n",
              "<p>3396 rows × 4 columns</p>\n",
              "</div>\n",
              "      <button class=\"colab-df-convert\" onclick=\"convertToInteractive('df-746a43c1-f788-4391-923e-3bf7451ab151')\"\n",
              "              title=\"Convert this dataframe to an interactive table.\"\n",
              "              style=\"display:none;\">\n",
              "        \n",
              "  <svg xmlns=\"http://www.w3.org/2000/svg\" height=\"24px\"viewBox=\"0 0 24 24\"\n",
              "       width=\"24px\">\n",
              "    <path d=\"M0 0h24v24H0V0z\" fill=\"none\"/>\n",
              "    <path d=\"M18.56 5.44l.94 2.06.94-2.06 2.06-.94-2.06-.94-.94-2.06-.94 2.06-2.06.94zm-11 1L8.5 8.5l.94-2.06 2.06-.94-2.06-.94L8.5 2.5l-.94 2.06-2.06.94zm10 10l.94 2.06.94-2.06 2.06-.94-2.06-.94-.94-2.06-.94 2.06-2.06.94z\"/><path d=\"M17.41 7.96l-1.37-1.37c-.4-.4-.92-.59-1.43-.59-.52 0-1.04.2-1.43.59L10.3 9.45l-7.72 7.72c-.78.78-.78 2.05 0 2.83L4 21.41c.39.39.9.59 1.41.59.51 0 1.02-.2 1.41-.59l7.78-7.78 2.81-2.81c.8-.78.8-2.07 0-2.86zM5.41 20L4 18.59l7.72-7.72 1.47 1.35L5.41 20z\"/>\n",
              "  </svg>\n",
              "      </button>\n",
              "      \n",
              "  <style>\n",
              "    .colab-df-container {\n",
              "      display:flex;\n",
              "      flex-wrap:wrap;\n",
              "      gap: 12px;\n",
              "    }\n",
              "\n",
              "    .colab-df-convert {\n",
              "      background-color: #E8F0FE;\n",
              "      border: none;\n",
              "      border-radius: 50%;\n",
              "      cursor: pointer;\n",
              "      display: none;\n",
              "      fill: #1967D2;\n",
              "      height: 32px;\n",
              "      padding: 0 0 0 0;\n",
              "      width: 32px;\n",
              "    }\n",
              "\n",
              "    .colab-df-convert:hover {\n",
              "      background-color: #E2EBFA;\n",
              "      box-shadow: 0px 1px 2px rgba(60, 64, 67, 0.3), 0px 1px 3px 1px rgba(60, 64, 67, 0.15);\n",
              "      fill: #174EA6;\n",
              "    }\n",
              "\n",
              "    [theme=dark] .colab-df-convert {\n",
              "      background-color: #3B4455;\n",
              "      fill: #D2E3FC;\n",
              "    }\n",
              "\n",
              "    [theme=dark] .colab-df-convert:hover {\n",
              "      background-color: #434B5C;\n",
              "      box-shadow: 0px 1px 3px 1px rgba(0, 0, 0, 0.15);\n",
              "      filter: drop-shadow(0px 1px 2px rgba(0, 0, 0, 0.3));\n",
              "      fill: #FFFFFF;\n",
              "    }\n",
              "  </style>\n",
              "\n",
              "      <script>\n",
              "        const buttonEl =\n",
              "          document.querySelector('#df-746a43c1-f788-4391-923e-3bf7451ab151 button.colab-df-convert');\n",
              "        buttonEl.style.display =\n",
              "          google.colab.kernel.accessAllowed ? 'block' : 'none';\n",
              "\n",
              "        async function convertToInteractive(key) {\n",
              "          const element = document.querySelector('#df-746a43c1-f788-4391-923e-3bf7451ab151');\n",
              "          const dataTable =\n",
              "            await google.colab.kernel.invokeFunction('convertToInteractive',\n",
              "                                                     [key], {});\n",
              "          if (!dataTable) return;\n",
              "\n",
              "          const docLinkHtml = 'Like what you see? Visit the ' +\n",
              "            '<a target=\"_blank\" href=https://colab.research.google.com/notebooks/data_table.ipynb>data table notebook</a>'\n",
              "            + ' to learn more about interactive tables.';\n",
              "          element.innerHTML = '';\n",
              "          dataTable['output_type'] = 'display_data';\n",
              "          await google.colab.output.renderOutput(dataTable, element);\n",
              "          const docLink = document.createElement('div');\n",
              "          docLink.innerHTML = docLinkHtml;\n",
              "          element.appendChild(docLink);\n",
              "        }\n",
              "      </script>\n",
              "    </div>\n",
              "  </div>\n",
              "  "
            ]
          },
          "metadata": {},
          "execution_count": 24
        }
      ]
    },
    {
      "cell_type": "code",
      "source": [
        "df = pd.concat([df1,df2], axis = 0)\n",
        "df"
      ],
      "metadata": {
        "id": "WcbQKaEtRWpI"
      },
      "execution_count": null,
      "outputs": []
    },
    {
      "cell_type": "code",
      "source": [
        "genre = np.unique(df.genre, return_counts = True)[0]\n",
        "cnt = np.unique(df.genre, return_counts = True)[1]\n",
        "list(zip(genre, cnt))"
      ],
      "metadata": {
        "colab": {
          "base_uri": "https://localhost:8080/"
        },
        "id": "GExZH7LXOoj9",
        "outputId": "1d2cc5a0-0582-487a-925c-8b9f590a6a01"
      },
      "execution_count": 26,
      "outputs": [
        {
          "output_type": "execute_result",
          "data": {
            "text/plain": [
              "[('balad', 793),\n",
              " ('dance', 793),\n",
              " ('folk', 788),\n",
              " ('hiphop', 414),\n",
              " ('inde', 783),\n",
              " ('pop', 193),\n",
              " ('rnb', 793),\n",
              " ('rock', 771),\n",
              " ('trot', 602)]"
            ]
          },
          "metadata": {},
          "execution_count": 26
        }
      ]
    },
    {
      "cell_type": "code",
      "source": [
        "df_ballad = df[df.genre == 'balad']\n",
        "df_ballad"
      ],
      "metadata": {
        "id": "2DbbrUNrPdsh"
      },
      "execution_count": null,
      "outputs": []
    },
    {
      "cell_type": "code",
      "source": [
        "df_dance = df[df.genre == 'dance']\n",
        "df_dance"
      ],
      "metadata": {
        "id": "kc0BVWPPP0L4"
      },
      "execution_count": null,
      "outputs": []
    },
    {
      "cell_type": "code",
      "source": [
        "df_hiphop = df[df.genre == 'hiphop']"
      ],
      "metadata": {
        "id": "E6yLtjwLP8v0"
      },
      "execution_count": 29,
      "outputs": []
    },
    {
      "cell_type": "code",
      "source": [
        "df_inde = df[df.genre == 'inde']"
      ],
      "metadata": {
        "id": "_XiNHFUJR_ft"
      },
      "execution_count": 30,
      "outputs": []
    },
    {
      "cell_type": "code",
      "source": [
        "df_folk = df[df.genre == 'folk']"
      ],
      "metadata": {
        "id": "82zcVIDmSHWm"
      },
      "execution_count": 31,
      "outputs": []
    },
    {
      "cell_type": "code",
      "source": [
        "df_rnb = df[df.genre == 'rnb']"
      ],
      "metadata": {
        "id": "_C77KwmYSNx7"
      },
      "execution_count": 33,
      "outputs": []
    },
    {
      "cell_type": "code",
      "source": [
        "df_rock = df[df.genre == 'rock']"
      ],
      "metadata": {
        "id": "GGbHqN5bSThY"
      },
      "execution_count": 34,
      "outputs": []
    },
    {
      "cell_type": "code",
      "source": [
        "df_trot = df[df.genre == 'trot']"
      ],
      "metadata": {
        "id": "eRuVZmVLSYwg"
      },
      "execution_count": 35,
      "outputs": []
    },
    {
      "cell_type": "code",
      "source": [
        "df_genre = pd.concat([df_ballad, df_dance, df_hiphop, df_inde, df_rnb, df_rock, df_folk, df_trot], axis = 0, ignore_index=True)\n",
        "df_genre"
      ],
      "metadata": {
        "id": "l6OQT5O3ScEo"
      },
      "execution_count": null,
      "outputs": []
    },
    {
      "cell_type": "code",
      "source": [
        "with open('/content/drive/MyDrive/프로젝트/data/KLyricGenre.p', 'wb') as f:\n",
        "    pickle.dump(df_genre, f)"
      ],
      "metadata": {
        "id": "17DxaUoNYLW3"
      },
      "execution_count": 38,
      "outputs": []
    },
    {
      "cell_type": "code",
      "source": [
        "# 사용자가 장르, 문장 수를 선택했을 때 \n",
        "def show_sentence(genre, n, df = df_genre):\n",
        "    g = {'발라드':'balad', '댄스':'dance', '힙합':'hiphop', '인디':'inde',\n",
        "        '포크':'folk', '알앤비':'rnb', '락':'rock', '트로트':'trot'}\n",
        "    gr = g[genre]\n",
        "\n",
        "    sentences = []\n",
        "\n",
        "    import random\n",
        "    for _ in range(n):\n",
        "        temp_df = df[df.genre == gr]\n",
        "        song_num = random.randrange(len(temp_df))\n",
        "        lyric = temp_df.iloc[song_num,2]\n",
        "        sentence_num = random.randrange(len(lyric))\n",
        "        sentences.append(f\"'{lyric[sentence_num]}' - {temp_df.iloc[song_num,0]}, {temp_df.iloc[song_num,1]}\")\n",
        "    for s in sentences:\n",
        "        print(s)"
      ],
      "metadata": {
        "id": "mw02wrJiYeIE"
      },
      "execution_count": 79,
      "outputs": []
    },
    {
      "cell_type": "code",
      "source": [
        "gen = input('''장르를 선택하세요: \n",
        "발라드, 댄스, 힙합, 인디, 포크, 알앤비, 락, 트로트 중 하나 입력\n",
        "''')\n",
        "n = int(input('출력할 문장의 수를 입력하세요: (정수만 입력)\\n'))\n",
        "show_sentence(gen, n)"
      ],
      "metadata": {
        "colab": {
          "base_uri": "https://localhost:8080/"
        },
        "id": "LP_KaaFUe9Li",
        "outputId": "d21389ae-7415-4bf6-a6cb-69d011cec257"
      },
      "execution_count": 82,
      "outputs": [
        {
          "output_type": "stream",
          "name": "stdout",
          "text": [
            "장르를 선택하세요: \n",
            "발라드, 댄스, 힙합, 인디, 포크, 알앤비, 락, 트로트 중 하나 입력\n",
            "댄스\n",
            "출력할 문장의 수를 입력하세요: (정수만 입력)\n",
            "5\n",
            "'아직 너를 기다리잖아' - 여름이야기 (Sky Mix), DJ DOC\n",
            "'내 맘을 아니' - 너 때문에 (2011 New Recordings), 애프터스쿨\n",
            "'떠나간 그대' - 토요일밤에, 손담비\n",
            "'그 무대 위에서 이 노랠 부른다면' - 그랬다면, 지송이와 도란이\n",
            "'Baby I want you know' - Magic Woman, 윤영아\n"
          ]
        }
      ]
    },
    {
      "cell_type": "code",
      "source": [
        "l = []\n",
        "for i in range(len(df_genre['lyric'])):\n",
        "    for line in df_genre.iloc[i,2]:\n",
        "        l.append(len(line.split()))\n"
      ],
      "metadata": {
        "colab": {
          "base_uri": "https://localhost:8080/"
        },
        "id": "XSrW8Qcii_AU",
        "outputId": "e16d0087-53bc-4565-9f5e-9ddad4b696fe"
      },
      "execution_count": 86,
      "outputs": [
        {
          "output_type": "execute_result",
          "data": {
            "text/plain": [
              "[2, 2, 4, 3, 4, 4, 4, 4, 5, 3]"
            ]
          },
          "metadata": {},
          "execution_count": 86
        }
      ]
    },
    {
      "cell_type": "code",
      "source": [
        "np.unique(l, return_counts=True)"
      ],
      "metadata": {
        "colab": {
          "base_uri": "https://localhost:8080/"
        },
        "id": "qXzmYJy1kTHS",
        "outputId": "eb92ff58-8e9f-4aa6-9d6c-e0df81731de6"
      },
      "execution_count": 92,
      "outputs": [
        {
          "output_type": "execute_result",
          "data": {
            "text/plain": [
              "(array([  0,   1,   2,   3,   4,   5,   6,   7,   8,   9,  10,  11,  12,\n",
              "         13,  14,  15,  16,  17,  20,  53, 109]),\n",
              " array([  245,  6745, 36899, 65902, 67685, 43848, 22593,  8478,  2743,\n",
              "          662,   308,    83,    28,    27,     8,     7,     1,     4,\n",
              "            1,     1,     1]))"
            ]
          },
          "metadata": {},
          "execution_count": 92
        }
      ]
    },
    {
      "cell_type": "code",
      "source": [
        "# 사용자가 장르, 문장 수, 최소 단어 수를 선택했을 때 \n",
        "def show_sentence(genre, n, min_n = 6, df = df_genre):\n",
        "    g = {'발라드':'balad', '댄스':'dance', '힙합':'hiphop', '인디':'inde',\n",
        "        '포크':'folk', '알앤비':'rnb', '락':'rock', '트로트':'trot'}\n",
        "    gr = g[genre]\n",
        "\n",
        "    sentences = []\n",
        "    import random\n",
        "    while len(sentences) < n:\n",
        "        temp_df = df[df.genre == gr]\n",
        "        song_num = random.randrange(len(temp_df))\n",
        "\n",
        "        lyric = temp_df.iloc[song_num,2]\n",
        "        sentence_num = random.randrange(len(lyric))\n",
        "        \n",
        "        sentence = lyric[sentence_num]\n",
        "\n",
        "        while len(sentence.split()) < min_n:\n",
        "            try:\n",
        "                sentence_num += 1\n",
        "                sentence = sentence + ' ' + lyric[sentence_num]\n",
        "            except:\n",
        "                break\n",
        "        \n",
        "        if len(sentence.split()) >= min_n:\n",
        "            sentences.append(f\"'{sentence}' - {temp_df.iloc[song_num,0]}, {temp_df.iloc[song_num,1]}\")\n",
        "    \n",
        "    for s in sentences:\n",
        "        print(s)"
      ],
      "metadata": {
        "id": "k48vm0GOiOW1"
      },
      "execution_count": 106,
      "outputs": []
    },
    {
      "cell_type": "code",
      "source": [
        "gen = input('''장르를 선택하세요: \n",
        "발라드, 댄스, 힙합, 인디, 포크, 알앤비, 락, 트로트 중 하나 입력\n",
        "''')\n",
        "n = int(input('출력할 문장의 수를 입력하세요\\n(양의 정수만 입력):'))\n",
        "min_n = int(input('출력할 문장의 최소 어절 수\\n(양의 정수만 입력, 최대 100):'))\n",
        "show_sentence(gen, n, min_n)"
      ],
      "metadata": {
        "colab": {
          "base_uri": "https://localhost:8080/"
        },
        "id": "DsRXzN3ToLLS",
        "outputId": "fd797a87-5fe5-4a1f-bdf0-82d12283e3cf"
      },
      "execution_count": 110,
      "outputs": [
        {
          "output_type": "stream",
          "name": "stdout",
          "text": [
            "장르를 선택하세요: \n",
            "발라드, 댄스, 힙합, 인디, 포크, 알앤비, 락, 트로트 중 하나 입력\n",
            "댄스\n",
            "출력할 문장의 수를 입력하세요\n",
            "(양의 정수만 입력):5\n",
            "출력할 문장의 최소 어절 수\n",
            "(양의 정수만 입력, 최대 100):10\n",
            "'아무도 모르게 네 품 안에서 너와 함께하고 싶어 oh 언제까지' - Kiss, NMIXX\n",
            "'Shake it shake it for me 나나나 나나나 나나나 Hey' - SHAKE IT, 씨스타\n",
            "'심장소리가 들려왔죠 숨겨도 감출 수 없는건 꿈에도 원하고 있는건 세상 무엇보다 소중한 오직 한 사람' - 두근두근 (Original Ver.), 써니힐\n",
            "'틀린 게 아니야 다른 것뿐이야 판단을 하지마 그냥 느끼라니까 다르다고 틀리다고' - 나팔바지, 싸이 (PSY)\n",
            "'이제는 일어나자 Na na na na na na na na na na na na' - Wake Up (with. 경희사이버대학교 실용음악학과), 경희사이버대학교 실용음악학과\n"
          ]
        }
      ]
    }
  ]
}