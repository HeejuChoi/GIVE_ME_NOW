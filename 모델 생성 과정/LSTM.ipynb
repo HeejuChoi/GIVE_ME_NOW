{
  "cells": [
    {
      "cell_type": "code",
      "execution_count": 2,
      "metadata": {
        "colab": {
          "base_uri": "https://localhost:8080/"
        },
        "id": "DwNBdyqrCGB1",
        "outputId": "e2d7cc98-897f-4a1f-ef45-5a8e40001956"
      },
      "outputs": [
        {
          "name": "stdout",
          "output_type": "stream",
          "text": [
            "Drive already mounted at /content/drive; to attempt to forcibly remount, call drive.mount(\"/content/drive\", force_remount=True).\n"
          ]
        }
      ],
      "source": [
        "from google.colab import drive\n",
        "drive.mount('/content/drive')"
      ]
    },
    {
      "cell_type": "code",
      "execution_count": 3,
      "metadata": {
        "id": "c-ykEISlCbEg"
      },
      "outputs": [],
      "source": [
        "import pickle\n",
        "import pandas as pd\n",
        "import numpy as np"
      ]
    },
    {
      "cell_type": "code",
      "execution_count": 4,
      "metadata": {
        "id": "rS-4ex-iCfUe"
      },
      "outputs": [],
      "source": [
        "with open('/content/drive/MyDrive/프로젝트/data/KLyricSentenceDFFinal.p', 'rb') as f:\n",
        "    df = pickle.load(f)"
      ]
    },
    {
      "cell_type": "code",
      "execution_count": 5,
      "metadata": {
        "colab": {
          "base_uri": "https://localhost:8080/",
          "height": 554
        },
        "id": "qbUgmTvaCq_4",
        "outputId": "99d1067f-a4ea-4d53-b4d0-65e423cf3819"
      },
      "outputs": [
        {
          "data": {
            "text/html": [
              "\n",
              "  <div id=\"df-cf3a3f40-de06-4a21-ac83-e4572bbe76e8\">\n",
              "    <div class=\"colab-df-container\">\n",
              "      <div>\n",
              "<style scoped>\n",
              "    .dataframe tbody tr th:only-of-type {\n",
              "        vertical-align: middle;\n",
              "    }\n",
              "\n",
              "    .dataframe tbody tr th {\n",
              "        vertical-align: top;\n",
              "    }\n",
              "\n",
              "    .dataframe thead th {\n",
              "        text-align: right;\n",
              "    }\n",
              "</style>\n",
              "<table border=\"1\" class=\"dataframe\">\n",
              "  <thead>\n",
              "    <tr style=\"text-align: right;\">\n",
              "      <th></th>\n",
              "      <th>title</th>\n",
              "      <th>artist</th>\n",
              "      <th>lyric</th>\n",
              "      <th>genre</th>\n",
              "    </tr>\n",
              "  </thead>\n",
              "  <tbody>\n",
              "    <tr>\n",
              "      <th>0</th>\n",
              "      <td>내 손을 잡아</td>\n",
              "      <td>아이유</td>\n",
              "      <td>[느낌이 오잖아, 떨리고 있잖아, 언제까지 눈치만 볼 거니, 네 맘을 말해봐, 딴청...</td>\n",
              "      <td>balad</td>\n",
              "    </tr>\n",
              "    <tr>\n",
              "      <th>1</th>\n",
              "      <td>너의 모든 순간 (Original)</td>\n",
              "      <td>성시경</td>\n",
              "      <td>[이윽고 내가 한눈에, 너를 알아봤을 때, 모든 건 분명 달라지고 있었어, 내 세상...</td>\n",
              "      <td>balad</td>\n",
              "    </tr>\n",
              "    <tr>\n",
              "      <th>2</th>\n",
              "      <td>Timeless</td>\n",
              "      <td>SG 워너비</td>\n",
              "      <td>[어쩜 살아가다 보면, 한 번은 날 찾을지 몰라, 난 그 기대 하나로, 오늘도 힘겹...</td>\n",
              "      <td>balad</td>\n",
              "    </tr>\n",
              "    <tr>\n",
              "      <th>3</th>\n",
              "      <td>바람이 불었으면 좋겠어</td>\n",
              "      <td>길구봉구</td>\n",
              "      <td>[웃는 모습이 너무 아름다운, 그런 너를 기억하면서, 괜찮아 넌 잘할거라 말하던, ...</td>\n",
              "      <td>balad</td>\n",
              "    </tr>\n",
              "    <tr>\n",
              "      <th>4</th>\n",
              "      <td>봄 사랑 벚꽃 말고</td>\n",
              "      <td>HIGH4 (하이포)</td>\n",
              "      <td>[길었던 겨우내 줄곧 품이 좀 남는, 밤색 코트, 그 속에 나를 쏙 감추고 걸음을,...</td>\n",
              "      <td>balad</td>\n",
              "    </tr>\n",
              "    <tr>\n",
              "      <th>...</th>\n",
              "      <td>...</td>\n",
              "      <td>...</td>\n",
              "      <td>...</td>\n",
              "      <td>...</td>\n",
              "    </tr>\n",
              "    <tr>\n",
              "      <th>3391</th>\n",
              "      <td>소녀</td>\n",
              "      <td>뮤뭉</td>\n",
              "      <td>[손만 닿아도 떨어져버릴 것 같은, 꽃잎 같은 모습을 하고 있는 널 보았어, 아 소...</td>\n",
              "      <td>folk</td>\n",
              "    </tr>\n",
              "    <tr>\n",
              "      <th>3392</th>\n",
              "      <td>꿈처럼 이내 사라져 버리네</td>\n",
              "      <td>박연두</td>\n",
              "      <td>[바람은 기억하고 있었고, 바다는 널 품에 안고 있었어, 우리는 늘 그렇듯 살며 잊...</td>\n",
              "      <td>folk</td>\n",
              "    </tr>\n",
              "    <tr>\n",
              "      <th>3393</th>\n",
              "      <td>과일가게총각</td>\n",
              "      <td>나날(NaaNaL)</td>\n",
              "      <td>[우리 동네 과일가게에서, 일하는 총각이 좋아, 갈색머리 우렁찬 목소리에, 나는 빠...</td>\n",
              "      <td>folk</td>\n",
              "    </tr>\n",
              "    <tr>\n",
              "      <th>3394</th>\n",
              "      <td>Attitude</td>\n",
              "      <td>이보람</td>\n",
              "      <td>[빼곡히도 적어 놓았던, 알 수 없던 나의 생각들이, 점점 줄어드는 공간이, 마침표...</td>\n",
              "      <td>folk</td>\n",
              "    </tr>\n",
              "    <tr>\n",
              "      <th>3395</th>\n",
              "      <td>바다야</td>\n",
              "      <td>홍준영</td>\n",
              "      <td>[바다야, 너는 아니, 이곳은 너와 나의 첫 만남이었어, 바다야, 너는 아니, 이곳...</td>\n",
              "      <td>folk</td>\n",
              "    </tr>\n",
              "  </tbody>\n",
              "</table>\n",
              "<p>5515 rows × 4 columns</p>\n",
              "</div>\n",
              "      <button class=\"colab-df-convert\" onclick=\"convertToInteractive('df-cf3a3f40-de06-4a21-ac83-e4572bbe76e8')\"\n",
              "              title=\"Convert this dataframe to an interactive table.\"\n",
              "              style=\"display:none;\">\n",
              "        \n",
              "  <svg xmlns=\"http://www.w3.org/2000/svg\" height=\"24px\"viewBox=\"0 0 24 24\"\n",
              "       width=\"24px\">\n",
              "    <path d=\"M0 0h24v24H0V0z\" fill=\"none\"/>\n",
              "    <path d=\"M18.56 5.44l.94 2.06.94-2.06 2.06-.94-2.06-.94-.94-2.06-.94 2.06-2.06.94zm-11 1L8.5 8.5l.94-2.06 2.06-.94-2.06-.94L8.5 2.5l-.94 2.06-2.06.94zm10 10l.94 2.06.94-2.06 2.06-.94-2.06-.94-.94-2.06-.94 2.06-2.06.94z\"/><path d=\"M17.41 7.96l-1.37-1.37c-.4-.4-.92-.59-1.43-.59-.52 0-1.04.2-1.43.59L10.3 9.45l-7.72 7.72c-.78.78-.78 2.05 0 2.83L4 21.41c.39.39.9.59 1.41.59.51 0 1.02-.2 1.41-.59l7.78-7.78 2.81-2.81c.8-.78.8-2.07 0-2.86zM5.41 20L4 18.59l7.72-7.72 1.47 1.35L5.41 20z\"/>\n",
              "  </svg>\n",
              "      </button>\n",
              "      \n",
              "  <style>\n",
              "    .colab-df-container {\n",
              "      display:flex;\n",
              "      flex-wrap:wrap;\n",
              "      gap: 12px;\n",
              "    }\n",
              "\n",
              "    .colab-df-convert {\n",
              "      background-color: #E8F0FE;\n",
              "      border: none;\n",
              "      border-radius: 50%;\n",
              "      cursor: pointer;\n",
              "      display: none;\n",
              "      fill: #1967D2;\n",
              "      height: 32px;\n",
              "      padding: 0 0 0 0;\n",
              "      width: 32px;\n",
              "    }\n",
              "\n",
              "    .colab-df-convert:hover {\n",
              "      background-color: #E2EBFA;\n",
              "      box-shadow: 0px 1px 2px rgba(60, 64, 67, 0.3), 0px 1px 3px 1px rgba(60, 64, 67, 0.15);\n",
              "      fill: #174EA6;\n",
              "    }\n",
              "\n",
              "    [theme=dark] .colab-df-convert {\n",
              "      background-color: #3B4455;\n",
              "      fill: #D2E3FC;\n",
              "    }\n",
              "\n",
              "    [theme=dark] .colab-df-convert:hover {\n",
              "      background-color: #434B5C;\n",
              "      box-shadow: 0px 1px 3px 1px rgba(0, 0, 0, 0.15);\n",
              "      filter: drop-shadow(0px 1px 2px rgba(0, 0, 0, 0.3));\n",
              "      fill: #FFFFFF;\n",
              "    }\n",
              "  </style>\n",
              "\n",
              "      <script>\n",
              "        const buttonEl =\n",
              "          document.querySelector('#df-cf3a3f40-de06-4a21-ac83-e4572bbe76e8 button.colab-df-convert');\n",
              "        buttonEl.style.display =\n",
              "          google.colab.kernel.accessAllowed ? 'block' : 'none';\n",
              "\n",
              "        async function convertToInteractive(key) {\n",
              "          const element = document.querySelector('#df-cf3a3f40-de06-4a21-ac83-e4572bbe76e8');\n",
              "          const dataTable =\n",
              "            await google.colab.kernel.invokeFunction('convertToInteractive',\n",
              "                                                     [key], {});\n",
              "          if (!dataTable) return;\n",
              "\n",
              "          const docLinkHtml = 'Like what you see? Visit the ' +\n",
              "            '<a target=\"_blank\" href=https://colab.research.google.com/notebooks/data_table.ipynb>data table notebook</a>'\n",
              "            + ' to learn more about interactive tables.';\n",
              "          element.innerHTML = '';\n",
              "          dataTable['output_type'] = 'display_data';\n",
              "          await google.colab.output.renderOutput(dataTable, element);\n",
              "          const docLink = document.createElement('div');\n",
              "          docLink.innerHTML = docLinkHtml;\n",
              "          element.appendChild(docLink);\n",
              "        }\n",
              "      </script>\n",
              "    </div>\n",
              "  </div>\n",
              "  "
            ],
            "text/plain": [
              "                    title       artist  \\\n",
              "0                 내 손을 잡아          아이유   \n",
              "1     너의 모든 순간 (Original)          성시경   \n",
              "2                Timeless       SG 워너비   \n",
              "3            바람이 불었으면 좋겠어         길구봉구   \n",
              "4              봄 사랑 벚꽃 말고  HIGH4 (하이포)   \n",
              "...                   ...          ...   \n",
              "3391                   소녀           뮤뭉   \n",
              "3392       꿈처럼 이내 사라져 버리네          박연두   \n",
              "3393               과일가게총각   나날(NaaNaL)   \n",
              "3394             Attitude          이보람   \n",
              "3395                  바다야          홍준영   \n",
              "\n",
              "                                                  lyric  genre  \n",
              "0     [느낌이 오잖아, 떨리고 있잖아, 언제까지 눈치만 볼 거니, 네 맘을 말해봐, 딴청...  balad  \n",
              "1     [이윽고 내가 한눈에, 너를 알아봤을 때, 모든 건 분명 달라지고 있었어, 내 세상...  balad  \n",
              "2     [어쩜 살아가다 보면, 한 번은 날 찾을지 몰라, 난 그 기대 하나로, 오늘도 힘겹...  balad  \n",
              "3     [웃는 모습이 너무 아름다운, 그런 너를 기억하면서, 괜찮아 넌 잘할거라 말하던, ...  balad  \n",
              "4     [길었던 겨우내 줄곧 품이 좀 남는, 밤색 코트, 그 속에 나를 쏙 감추고 걸음을,...  balad  \n",
              "...                                                 ...    ...  \n",
              "3391  [손만 닿아도 떨어져버릴 것 같은, 꽃잎 같은 모습을 하고 있는 널 보았어, 아 소...   folk  \n",
              "3392  [바람은 기억하고 있었고, 바다는 널 품에 안고 있었어, 우리는 늘 그렇듯 살며 잊...   folk  \n",
              "3393  [우리 동네 과일가게에서, 일하는 총각이 좋아, 갈색머리 우렁찬 목소리에, 나는 빠...   folk  \n",
              "3394  [빼곡히도 적어 놓았던, 알 수 없던 나의 생각들이, 점점 줄어드는 공간이, 마침표...   folk  \n",
              "3395  [바다야, 너는 아니, 이곳은 너와 나의 첫 만남이었어, 바다야, 너는 아니, 이곳...   folk  \n",
              "\n",
              "[5515 rows x 4 columns]"
            ]
          },
          "execution_count": 5,
          "metadata": {},
          "output_type": "execute_result"
        }
      ],
      "source": [
        "df"
      ]
    },
    {
      "cell_type": "code",
      "execution_count": 6,
      "metadata": {
        "colab": {
          "base_uri": "https://localhost:8080/",
          "height": 423
        },
        "id": "qnagm9kmDDbB",
        "outputId": "a0b36124-eacd-4858-ef6d-494b0f071b99"
      },
      "outputs": [
        {
          "data": {
            "text/html": [
              "\n",
              "  <div id=\"df-13be7535-90c3-4922-ba7f-d2001744110b\">\n",
              "    <div class=\"colab-df-container\">\n",
              "      <div>\n",
              "<style scoped>\n",
              "    .dataframe tbody tr th:only-of-type {\n",
              "        vertical-align: middle;\n",
              "    }\n",
              "\n",
              "    .dataframe tbody tr th {\n",
              "        vertical-align: top;\n",
              "    }\n",
              "\n",
              "    .dataframe thead th {\n",
              "        text-align: right;\n",
              "    }\n",
              "</style>\n",
              "<table border=\"1\" class=\"dataframe\">\n",
              "  <thead>\n",
              "    <tr style=\"text-align: right;\">\n",
              "      <th></th>\n",
              "      <th>lyric</th>\n",
              "    </tr>\n",
              "  </thead>\n",
              "  <tbody>\n",
              "    <tr>\n",
              "      <th>0</th>\n",
              "      <td>[느낌이 오잖아, 떨리고 있잖아, 언제까지 눈치만 볼 거니, 네 맘을 말해봐, 딴청...</td>\n",
              "    </tr>\n",
              "    <tr>\n",
              "      <th>1</th>\n",
              "      <td>[이윽고 내가 한눈에, 너를 알아봤을 때, 모든 건 분명 달라지고 있었어, 내 세상...</td>\n",
              "    </tr>\n",
              "    <tr>\n",
              "      <th>2</th>\n",
              "      <td>[어쩜 살아가다 보면, 한 번은 날 찾을지 몰라, 난 그 기대 하나로, 오늘도 힘겹...</td>\n",
              "    </tr>\n",
              "    <tr>\n",
              "      <th>3</th>\n",
              "      <td>[웃는 모습이 너무 아름다운, 그런 너를 기억하면서, 괜찮아 넌 잘할거라 말하던, ...</td>\n",
              "    </tr>\n",
              "    <tr>\n",
              "      <th>4</th>\n",
              "      <td>[길었던 겨우내 줄곧 품이 좀 남는, 밤색 코트, 그 속에 나를 쏙 감추고 걸음을,...</td>\n",
              "    </tr>\n",
              "    <tr>\n",
              "      <th>...</th>\n",
              "      <td>...</td>\n",
              "    </tr>\n",
              "    <tr>\n",
              "      <th>3391</th>\n",
              "      <td>[손만 닿아도 떨어져버릴 것 같은, 꽃잎 같은 모습을 하고 있는 널 보았어, 아 소...</td>\n",
              "    </tr>\n",
              "    <tr>\n",
              "      <th>3392</th>\n",
              "      <td>[바람은 기억하고 있었고, 바다는 널 품에 안고 있었어, 우리는 늘 그렇듯 살며 잊...</td>\n",
              "    </tr>\n",
              "    <tr>\n",
              "      <th>3393</th>\n",
              "      <td>[우리 동네 과일가게에서, 일하는 총각이 좋아, 갈색머리 우렁찬 목소리에, 나는 빠...</td>\n",
              "    </tr>\n",
              "    <tr>\n",
              "      <th>3394</th>\n",
              "      <td>[빼곡히도 적어 놓았던, 알 수 없던 나의 생각들이, 점점 줄어드는 공간이, 마침표...</td>\n",
              "    </tr>\n",
              "    <tr>\n",
              "      <th>3395</th>\n",
              "      <td>[바다야, 너는 아니, 이곳은 너와 나의 첫 만남이었어, 바다야, 너는 아니, 이곳...</td>\n",
              "    </tr>\n",
              "  </tbody>\n",
              "</table>\n",
              "<p>5515 rows × 1 columns</p>\n",
              "</div>\n",
              "      <button class=\"colab-df-convert\" onclick=\"convertToInteractive('df-13be7535-90c3-4922-ba7f-d2001744110b')\"\n",
              "              title=\"Convert this dataframe to an interactive table.\"\n",
              "              style=\"display:none;\">\n",
              "        \n",
              "  <svg xmlns=\"http://www.w3.org/2000/svg\" height=\"24px\"viewBox=\"0 0 24 24\"\n",
              "       width=\"24px\">\n",
              "    <path d=\"M0 0h24v24H0V0z\" fill=\"none\"/>\n",
              "    <path d=\"M18.56 5.44l.94 2.06.94-2.06 2.06-.94-2.06-.94-.94-2.06-.94 2.06-2.06.94zm-11 1L8.5 8.5l.94-2.06 2.06-.94-2.06-.94L8.5 2.5l-.94 2.06-2.06.94zm10 10l.94 2.06.94-2.06 2.06-.94-2.06-.94-.94-2.06-.94 2.06-2.06.94z\"/><path d=\"M17.41 7.96l-1.37-1.37c-.4-.4-.92-.59-1.43-.59-.52 0-1.04.2-1.43.59L10.3 9.45l-7.72 7.72c-.78.78-.78 2.05 0 2.83L4 21.41c.39.39.9.59 1.41.59.51 0 1.02-.2 1.41-.59l7.78-7.78 2.81-2.81c.8-.78.8-2.07 0-2.86zM5.41 20L4 18.59l7.72-7.72 1.47 1.35L5.41 20z\"/>\n",
              "  </svg>\n",
              "      </button>\n",
              "      \n",
              "  <style>\n",
              "    .colab-df-container {\n",
              "      display:flex;\n",
              "      flex-wrap:wrap;\n",
              "      gap: 12px;\n",
              "    }\n",
              "\n",
              "    .colab-df-convert {\n",
              "      background-color: #E8F0FE;\n",
              "      border: none;\n",
              "      border-radius: 50%;\n",
              "      cursor: pointer;\n",
              "      display: none;\n",
              "      fill: #1967D2;\n",
              "      height: 32px;\n",
              "      padding: 0 0 0 0;\n",
              "      width: 32px;\n",
              "    }\n",
              "\n",
              "    .colab-df-convert:hover {\n",
              "      background-color: #E2EBFA;\n",
              "      box-shadow: 0px 1px 2px rgba(60, 64, 67, 0.3), 0px 1px 3px 1px rgba(60, 64, 67, 0.15);\n",
              "      fill: #174EA6;\n",
              "    }\n",
              "\n",
              "    [theme=dark] .colab-df-convert {\n",
              "      background-color: #3B4455;\n",
              "      fill: #D2E3FC;\n",
              "    }\n",
              "\n",
              "    [theme=dark] .colab-df-convert:hover {\n",
              "      background-color: #434B5C;\n",
              "      box-shadow: 0px 1px 3px 1px rgba(0, 0, 0, 0.15);\n",
              "      filter: drop-shadow(0px 1px 2px rgba(0, 0, 0, 0.3));\n",
              "      fill: #FFFFFF;\n",
              "    }\n",
              "  </style>\n",
              "\n",
              "      <script>\n",
              "        const buttonEl =\n",
              "          document.querySelector('#df-13be7535-90c3-4922-ba7f-d2001744110b button.colab-df-convert');\n",
              "        buttonEl.style.display =\n",
              "          google.colab.kernel.accessAllowed ? 'block' : 'none';\n",
              "\n",
              "        async function convertToInteractive(key) {\n",
              "          const element = document.querySelector('#df-13be7535-90c3-4922-ba7f-d2001744110b');\n",
              "          const dataTable =\n",
              "            await google.colab.kernel.invokeFunction('convertToInteractive',\n",
              "                                                     [key], {});\n",
              "          if (!dataTable) return;\n",
              "\n",
              "          const docLinkHtml = 'Like what you see? Visit the ' +\n",
              "            '<a target=\"_blank\" href=https://colab.research.google.com/notebooks/data_table.ipynb>data table notebook</a>'\n",
              "            + ' to learn more about interactive tables.';\n",
              "          element.innerHTML = '';\n",
              "          dataTable['output_type'] = 'display_data';\n",
              "          await google.colab.output.renderOutput(dataTable, element);\n",
              "          const docLink = document.createElement('div');\n",
              "          docLink.innerHTML = docLinkHtml;\n",
              "          element.appendChild(docLink);\n",
              "        }\n",
              "      </script>\n",
              "    </div>\n",
              "  </div>\n",
              "  "
            ],
            "text/plain": [
              "                                                  lyric\n",
              "0     [느낌이 오잖아, 떨리고 있잖아, 언제까지 눈치만 볼 거니, 네 맘을 말해봐, 딴청...\n",
              "1     [이윽고 내가 한눈에, 너를 알아봤을 때, 모든 건 분명 달라지고 있었어, 내 세상...\n",
              "2     [어쩜 살아가다 보면, 한 번은 날 찾을지 몰라, 난 그 기대 하나로, 오늘도 힘겹...\n",
              "3     [웃는 모습이 너무 아름다운, 그런 너를 기억하면서, 괜찮아 넌 잘할거라 말하던, ...\n",
              "4     [길었던 겨우내 줄곧 품이 좀 남는, 밤색 코트, 그 속에 나를 쏙 감추고 걸음을,...\n",
              "...                                                 ...\n",
              "3391  [손만 닿아도 떨어져버릴 것 같은, 꽃잎 같은 모습을 하고 있는 널 보았어, 아 소...\n",
              "3392  [바람은 기억하고 있었고, 바다는 널 품에 안고 있었어, 우리는 늘 그렇듯 살며 잊...\n",
              "3393  [우리 동네 과일가게에서, 일하는 총각이 좋아, 갈색머리 우렁찬 목소리에, 나는 빠...\n",
              "3394  [빼곡히도 적어 놓았던, 알 수 없던 나의 생각들이, 점점 줄어드는 공간이, 마침표...\n",
              "3395  [바다야, 너는 아니, 이곳은 너와 나의 첫 만남이었어, 바다야, 너는 아니, 이곳...\n",
              "\n",
              "[5515 rows x 1 columns]"
            ]
          },
          "execution_count": 6,
          "metadata": {},
          "output_type": "execute_result"
        }
      ],
      "source": [
        "df_ = pd.DataFrame(df['lyric'], columns = ['lyric'])\n",
        "df_"
      ]
    },
    {
      "cell_type": "code",
      "execution_count": 7,
      "metadata": {
        "id": "0y0LXiHLCtb4"
      },
      "outputs": [],
      "source": [
        "from tensorflow.keras.preprocessing.text import Tokenizer\n",
        "from tensorflow.keras.preprocessing.sequence import pad_sequences\n",
        "from tensorflow.keras.utils import to_categorical"
      ]
    },
    {
      "cell_type": "code",
      "execution_count": null,
      "metadata": {
        "id": "xnmy86DFCObk"
      },
      "outputs": [],
      "source": [
        "x = df_.iloc[0,0]\n",
        "x\n",
        "# 가사를 합치고 없애고 전처리하는 과정에서 index가 엉망이라 걍 iloc로 편하게 쓰자.\n",
        "# 인덱스 리셋하면 되긴 하는데 귀찮다."
      ]
    },
    {
      "cell_type": "code",
      "execution_count": null,
      "metadata": {
        "id": "ltyvnFmPCqlN"
      },
      "outputs": [],
      "source": [
        "# 리스트 하나에 문장 스트링을 싹 다 담아주고 fit on texts 해볼까"
      ]
    },
    {
      "cell_type": "code",
      "execution_count": null,
      "metadata": {
        "id": "qK-pbxl-oSS2"
      },
      "outputs": [],
      "source": [
        "stopwords = ['가', '예', '이', '리가', '하', '오']"
      ]
    },
    {
      "cell_type": "code",
      "execution_count": 8,
      "metadata": {
        "colab": {
          "base_uri": "https://localhost:8080/",
          "height": 37
        },
        "id": "VFFwXGAaCzNm",
        "outputId": "b9930b60-5877-48eb-9d1c-ab98cb2f6b5e"
      },
      "outputs": [
        {
          "data": {
            "application/vnd.google.colaboratory.intrinsic+json": {
              "type": "string"
            },
            "text/plain": [
              "'느낌이 오잖아'"
            ]
          },
          "execution_count": 8,
          "metadata": {},
          "output_type": "execute_result"
        }
      ],
      "source": [
        "x_data = []\n",
        "for i in range(len(df_)):\n",
        "    x = df_.iloc[i,0]\n",
        "    for sentence in x:\n",
        "        x_data.append(sentence)\n",
        "x_data[0]"
      ]
    },
    {
      "cell_type": "code",
      "execution_count": 9,
      "metadata": {
        "id": "Xz-rsv_lEDio"
      },
      "outputs": [],
      "source": [
        "tokenizer = Tokenizer()\n",
        "tokenizer.fit_on_texts(x_data)"
      ]
    },
    {
      "cell_type": "code",
      "execution_count": null,
      "metadata": {
        "colab": {
          "base_uri": "https://localhost:8080/"
        },
        "id": "6NWsVoAPCaGE",
        "outputId": "746befb2-f3d7-4dcb-f140-62f57c64e471"
      },
      "outputs": [
        {
          "data": {
            "text/plain": [
              "78219"
            ]
          },
          "execution_count": 29,
          "metadata": {},
          "output_type": "execute_result"
        }
      ],
      "source": [
        "len(tokenizer.word_index)"
      ]
    },
    {
      "cell_type": "code",
      "execution_count": 10,
      "metadata": {
        "id": "AKOp7Sw0D1R1"
      },
      "outputs": [],
      "source": [
        "vocab_size = len(tokenizer.word_index) + 1 # 0 포함 위해"
      ]
    },
    {
      "cell_type": "code",
      "execution_count": null,
      "metadata": {
        "colab": {
          "base_uri": "https://localhost:8080/"
        },
        "id": "V4JOAAfqEVMt",
        "outputId": "6046eff1-a7f7-4d04-b518-befc42385954"
      },
      "outputs": [
        {
          "data": {
            "text/plain": [
              "[1063, 9416]"
            ]
          },
          "execution_count": 9,
          "metadata": {},
          "output_type": "execute_result"
        }
      ],
      "source": [
        "tokenizer.texts_to_sequences([x_data[0]])[0] # 문장 차원을 높여야 적용됨. vacabulary에 저장된 번호로 단어가 바뀜"
      ]
    },
    {
      "cell_type": "code",
      "execution_count": 11,
      "metadata": {
        "colab": {
          "base_uri": "https://localhost:8080/"
        },
        "id": "lym1eo4zD-B9",
        "outputId": "8501d6d2-71ea-49ac-fc5d-bbb551c6b9f1"
      },
      "outputs": [
        {
          "data": {
            "text/plain": [
              "537206"
            ]
          },
          "execution_count": 11,
          "metadata": {},
          "output_type": "execute_result"
        }
      ],
      "source": [
        "sequences = []\n",
        "for line in x_data:\n",
        "    encoded = tokenizer.texts_to_sequences([line])[0]\n",
        "    for i in range(1, len(encoded)): # 단어 하나인 문장은 제외(문장을 만들기 어려우므로), \n",
        "        sequence = encoded[:i+1]\n",
        "        sequences.append(sequence)\n",
        "len(sequences)\n",
        "# 53만여개의 문장 샘플이 나옴..\n",
        "# ex) 느낌이, 느낌이 오잖아, 떨리고, 떨리고 있잖아, ..."
      ]
    },
    {
      "cell_type": "code",
      "execution_count": null,
      "metadata": {
        "colab": {
          "base_uri": "https://localhost:8080/"
        },
        "id": "yuKm1ruVHtic",
        "outputId": "13d86195-ec61-4455-dea5-f360dc217881"
      },
      "outputs": [
        {
          "data": {
            "text/plain": [
              "[1063, 9416]"
            ]
          },
          "execution_count": 13,
          "metadata": {},
          "output_type": "execute_result"
        }
      ],
      "source": [
        "sequences[0]"
      ]
    },
    {
      "cell_type": "code",
      "execution_count": null,
      "metadata": {
        "colab": {
          "base_uri": "https://localhost:8080/"
        },
        "id": "rJ3ugwV2GBwF",
        "outputId": "bf6a07c2-d74b-4a38-d68c-f032e80af042"
      },
      "outputs": [
        {
          "data": {
            "text/plain": [
              "105"
            ]
          },
          "execution_count": 11,
          "metadata": {},
          "output_type": "execute_result"
        }
      ],
      "source": [
        "max_len = max(len(l) for l in sequences)\n",
        "max_len"
      ]
    },
    {
      "cell_type": "code",
      "execution_count": null,
      "metadata": {
        "colab": {
          "base_uri": "https://localhost:8080/",
          "height": 265
        },
        "id": "VMsVnKfmHd09",
        "outputId": "655234dc-c60c-4474-974d-72981962da10"
      },
      "outputs": [
        {
          "data": {
            "image/png": "[encoded data removed]",
            "text/plain": [
              "<Figure size 432x288 with 1 Axes>"
            ]
          },
          "metadata": {
            "needs_background": "light"
          },
          "output_type": "display_data"
        }
      ],
      "source": [
        "import matplotlib.pyplot as plt\n",
        "plt.hist([len(l) for l in sequences])\n",
        "plt.show()\n",
        "# 문장의 길이(단어의 개수)가 대부분 10개 정도인듯"
      ]
    },
    {
      "cell_type": "code",
      "execution_count": 12,
      "metadata": {
        "id": "HPZ1sEKfGIQ-"
      },
      "outputs": [],
      "source": [
        "sequences = pad_sequences(sequences, maxlen=10, padding='pre')"
      ]
    },
    {
      "cell_type": "code",
      "execution_count": 13,
      "metadata": {
        "id": "Gi2GM6LpGY0G"
      },
      "outputs": [],
      "source": [
        "# 각 샘플 문장의 마지막 단어를 레이블로 분류하기\n",
        "sequences = np.array(sequences)\n",
        "X = sequences[:,:-1]\n",
        "y = sequences[:,-1]"
      ]
    },
    {
      "cell_type": "code",
      "execution_count": null,
      "metadata": {
        "colab": {
          "base_uri": "https://localhost:8080/"
        },
        "id": "DfszAbweGtoU",
        "outputId": "ae0b7eb4-ec2b-41cc-b4ab-3a1e9de4cea9"
      },
      "outputs": [
        {
          "data": {
            "text/plain": [
              "array([[    0,     0,     0, ...,     0,     0,  1063],\n",
              "       [    0,     0,     0, ...,     0,     0, 16417],\n",
              "       [    0,     0,     0, ...,     0,     0,  1122],\n",
              "       ...,\n",
              "       [    0,     0,     0, ...,    89,     3,  1276],\n",
              "       [    0,     0,     0, ...,     0,     0,  1019],\n",
              "       [    0,     0,     0, ...,     0,  1019,  7256]], dtype=int32)"
            ]
          },
          "execution_count": 16,
          "metadata": {},
          "output_type": "execute_result"
        }
      ],
      "source": [
        "X"
      ]
    },
    {
      "cell_type": "code",
      "execution_count": 14,
      "metadata": {
        "colab": {
          "base_uri": "https://localhost:8080/"
        },
        "id": "wJb6jE3VGqsq",
        "outputId": "ffe891aa-19d9-4107-ce70-a7dbaba3f33e"
      },
      "outputs": [
        {
          "data": {
            "text/plain": [
              "537206"
            ]
          },
          "execution_count": 14,
          "metadata": {},
          "output_type": "execute_result"
        }
      ],
      "source": [
        "len(y)"
      ]
    },
    {
      "cell_type": "code",
      "execution_count": null,
      "metadata": {
        "id": "iXlxadHHGxfM"
      },
      "outputs": [],
      "source": [
        "#원핫인코딩. 터져버린다!\n",
        "y = to_categorical(y, num_classes=vocab_size)\n",
        "y"
      ]
    },
    {
      "cell_type": "code",
      "execution_count": null,
      "metadata": {
        "colab": {
          "base_uri": "https://localhost:8080/"
        },
        "id": "-mqX35BU4peF",
        "outputId": "45f25c6e-f4ab-4075-d208-12487d618acb"
      },
      "outputs": [
        {
          "data": {
            "text/plain": [
              "78220"
            ]
          },
          "execution_count": 13,
          "metadata": {},
          "output_type": "execute_result"
        }
      ],
      "source": [
        "vocab_size"
      ]
    },
    {
      "cell_type": "code",
      "execution_count": 15,
      "metadata": {
        "id": "43KXb_1H3-5W"
      },
      "outputs": [],
      "source": [
        "from tensorflow.keras.models import Sequential\n",
        "from tensorflow.keras.layers import Embedding, Dense, LSTM"
      ]
    },
    {
      "cell_type": "code",
      "execution_count": null,
      "metadata": {
        "id": "OzhtvilR4czy"
      },
      "outputs": [],
      "source": [
        "m = Sequential()\n",
        "m.add(Embedding(vocab_size, 10))\n",
        "m.add(LSTM(128))\n",
        "m.add(Dense(vocab_size, activation = 'softmax'))"
      ]
    },
    {
      "cell_type": "code",
      "execution_count": null,
      "metadata": {
        "id": "Mpi6vXXN47AV"
      },
      "outputs": [],
      "source": [
        "m.compile(optimizer = 'adam',loss = 'sparse_categorical_crossentropy', metrics = 'accuracy')"
      ]
    },
    {
      "cell_type": "code",
      "execution_count": null,
      "metadata": {
        "colab": {
          "base_uri": "https://localhost:8080/"
        },
        "id": "ySxvvIL55GkA",
        "outputId": "153cb0be-6bc0-4ee3-bb66-11bbde290abd"
      },
      "outputs": [
        {
          "name": "stdout",
          "output_type": "stream",
          "text": [
            "Epoch 1/10\n",
            "16788/16788 [==============================] - 272s 16ms/step - loss: 9.0171 - accuracy: 0.0218\n",
            "Epoch 2/10\n",
            "16788/16788 [==============================] - 265s 16ms/step - loss: 8.1454 - accuracy: 0.0506\n",
            "Epoch 3/10\n",
            "16788/16788 [==============================] - 264s 16ms/step - loss: 7.5104 - accuracy: 0.0854\n",
            "Epoch 4/10\n",
            "16788/16788 [==============================] - 266s 16ms/step - loss: 6.9740 - accuracy: 0.1189\n",
            "Epoch 5/10\n",
            "16788/16788 [==============================] - 267s 16ms/step - loss: 6.5208 - accuracy: 0.1482\n",
            "Epoch 6/10\n",
            "16788/16788 [==============================] - 265s 16ms/step - loss: 6.1357 - accuracy: 0.1741\n",
            "Epoch 7/10\n",
            "16788/16788 [==============================] - 265s 16ms/step - loss: 5.8513 - accuracy: 0.1961\n",
            "Epoch 8/10\n",
            "16788/16788 [==============================] - 264s 16ms/step - loss: 5.6202 - accuracy: 0.2143\n",
            "Epoch 9/10\n",
            "16788/16788 [==============================] - 268s 16ms/step - loss: 5.4291 - accuracy: 0.2305\n",
            "Epoch 10/10\n",
            "16788/16788 [==============================] - 263s 16ms/step - loss: 5.2673 - accuracy: 0.2436\n"
          ]
        },
        {
          "data": {
            "text/plain": [
              "<keras.callbacks.History at 0x7fbba44bafd0>"
            ]
          },
          "execution_count": 15,
          "metadata": {},
          "output_type": "execute_result"
        }
      ],
      "source": [
        "m.fit(X,y, epochs = 10)"
      ]
    },
    {
      "cell_type": "code",
      "execution_count": null,
      "metadata": {
        "colab": {
          "base_uri": "https://localhost:8080/"
        },
        "id": "tgTKkVeTB_2y",
        "outputId": "44b37e7b-cda4-4c75-df1a-a4a27438a82e"
      },
      "outputs": [
        {
          "name": "stderr",
          "output_type": "stream",
          "text": [
            "WARNING:absl:Found untraced functions such as lstm_cell_layer_call_fn, lstm_cell_layer_call_and_return_conditional_losses while saving (showing 2 of 2). These functions will not be directly callable after loading.\n",
            "WARNING:absl:<keras.layers.recurrent.LSTMCell object at 0x7fbba0ca5a90> has the same name 'LSTMCell' as a built-in Keras object. Consider renaming <class 'keras.layers.recurrent.LSTMCell'> to avoid naming conflicts when loading with `tf.keras.models.load_model`. If renaming is not possible, pass the object in the `custom_objects` parameter of the load function.\n"
          ]
        }
      ],
      "source": [
        "with open('/content/drive/MyDrive/프로젝트/모델/LSTM1.p', 'wb') as f:\n",
        "    pickle.dump(m, f)"
      ]
    },
    {
      "cell_type": "code",
      "execution_count": null,
      "metadata": {
        "id": "9v4Ozwv4FFB0"
      },
      "outputs": [],
      "source": [
        "with open('/content/drive/MyDrive/프로젝트/모델/tokenizer1.p', 'wb') as f:\n",
        "    pickle.dump(tokenizer, f)"
      ]
    },
    {
      "cell_type": "code",
      "execution_count": null,
      "metadata": {
        "id": "SqkQHrwf9IIz"
      },
      "outputs": [],
      "source": [
        "def sentence_generation(current_word, n, model = m, tokenizer = tokenizer): # 현재 단어, 반복할 횟수, 모델, 토크나이저 \n",
        "    init_word = current_word\n",
        "    sentence = ''\n",
        "\n",
        "    # n번 반복\n",
        "    for _ in range(n):\n",
        "        encoded = tokenizer.texts_to_sequences([current_word])[0]\n",
        "        encoded = pad_sequences([encoded], maxlen=10-1, padding='pre')\n",
        "\n",
        "        # 입력한 X(현재 단어)에 대해서 y를 예측하고 y(예측한 단어)를 result에 저장.\n",
        "        result = model.predict(encoded, verbose=0)\n",
        "        result = np.argmax(result, axis=1)\n",
        "\n",
        "        for word, index in tokenizer.word_index.items(): \n",
        "            # 만약 예측한 단어와 인덱스와 동일한 단어가 있다면\n",
        "            if index == result:\n",
        "                break\n",
        "\n",
        "        # 현재 단어 + ' ' + 예측 단어를 현재 단어로 변경\n",
        "        current_word = current_word + ' '  + word\n",
        "\n",
        "        # 예측 단어를 문장에 저장\n",
        "        sentence = sentence + ' ' + word\n",
        "\n",
        "    sentence = init_word + sentence\n",
        "    return sentence"
      ]
    },
    {
      "cell_type": "code",
      "execution_count": null,
      "metadata": {
        "colab": {
          "base_uri": "https://localhost:8080/"
        },
        "id": "RmazeF5Y-U1c",
        "outputId": "97641ece-d761-4236-970d-d3a437861298"
      },
      "outputs": [
        {
          "name": "stdout",
          "output_type": "stream",
          "text": [
            "그대\n",
            "그대 곁에 있어요 나의 맘 또 있어줘 다시 나를 내 밀어 내 말을 들어봐 너 나\n"
          ]
        }
      ],
      "source": [
        "word = input()\n",
        "print(sentence_generation(word,15))"
      ]
    },
    {
      "cell_type": "code",
      "execution_count": null,
      "metadata": {
        "id": "AksZQ5AoEm5C"
      },
      "outputs": [],
      "source": [
        "with open('/content/drive/MyDrive/프로젝트/모델/LSTM1.p', 'rb') as f:\n",
        "    m = pickle.load(f)"
      ]
    },
    {
      "cell_type": "code",
      "execution_count": null,
      "metadata": {
        "colab": {
          "base_uri": "https://localhost:8080/"
        },
        "id": "Rmy37W9IEvYy",
        "outputId": "ffdf17b6-5574-4444-ce96-ffa919bd4180"
      },
      "outputs": [
        {
          "name": "stdout",
          "output_type": "stream",
          "text": [
            "그대\n",
            "그대 곁에 있어요 나의 맘 또 있어줘 다시 나를 내 밀어 내 말을 들어봐 너 나\n"
          ]
        }
      ],
      "source": [
        "word = input()\n",
        "print(sentence_generation(word,15))"
      ]
    },
    {
      "cell_type": "markdown",
      "metadata": {
        "id": "2JY4fzwLGYjD"
      },
      "source": [
        "모델 로드, 작동이 되는걸 확인했음 <br>\n",
        "이제 성능 올리는 것에 집중<br>"
      ]
    },
    {
      "cell_type": "markdown",
      "metadata": {
        "id": "85Be6Y-oOB6H"
      },
      "source": [
        "#### 문제\n",
        "\n",
        "1. 딥러닝으로 학습한 모델은 답을 하나만 뽑는다. 즉 하나의 단어를 집어넣으면 정해진 답만 계속 출력함. 랜덤한 문장이 아닌 것.\n",
        "    - cpd를 이용해 사용자에게 받은 단어 다음에 올 단어를 랜덤으로 뽑고 그 랜덤 단어로 lstm 문장 만들기를 하자.\n",
        "    "
      ]
    },
    {
      "cell_type": "code",
      "execution_count": 16,
      "metadata": {
        "id": "eoRRboaZFESa"
      },
      "outputs": [],
      "source": [
        "from tensorflow.keras.models import Sequential\n",
        "from tensorflow.keras.layers import Embedding, Dense, LSTM\n",
        "from tensorflow.keras.callbacks import ModelCheckpoint, EarlyStopping\n",
        "from tensorflow.keras.models import load_model"
      ]
    },
    {
      "cell_type": "code",
      "execution_count": 26,
      "metadata": {
        "id": "pQt7gel3MZo4"
      },
      "outputs": [],
      "source": [
        "del m"
      ]
    },
    {
      "cell_type": "code",
      "execution_count": null,
      "metadata": {
        "id": "QoTJG-tjSU5y"
      },
      "outputs": [],
      "source": [
        "# m = Sequential()\n",
        "# m.add(Embedding(vocab_size, 10))\n",
        "# m.add(LSTM(64, return_sequences = True))\n",
        "# m.add(LSTM(64, return_sequences = True))\n",
        "# m.add(LSTM(64, return_sequences = True))\n",
        "# m.add(LSTM(128, return_sequences = True))\n",
        "# m.add(LSTM(256))\n",
        "# m.add(Dense(vocab_size, activation = 'softmax'))\n",
        "# m.compile(optimizer = 'adam',loss = 'sparse_categorical_crossentropy', metrics = 'accuracy')"
      ]
    },
    {
      "cell_type": "code",
      "execution_count": 27,
      "metadata": {
        "id": "hsFbqumqGwAx"
      },
      "outputs": [],
      "source": [
        "m = Sequential()\n",
        "m.add(Embedding(vocab_size, 10))\n",
        "m.add(LSTM(1024))\n",
        "m.add(Dense(vocab_size, activation = 'softmax'))\n",
        "m.compile(optimizer = 'adam',loss = 'sparse_categorical_crossentropy', metrics = 'accuracy')"
      ]
    },
    {
      "cell_type": "markdown",
      "metadata": {
        "id": "UYE4lVuxr_je"
      },
      "source": [
        "\n",
        "모델 4: lstm 1024"
      ]
    },
    {
      "cell_type": "markdown",
      "metadata": {
        "id": "SUj_YksPtAgV"
      },
      "source": [
        "어차피 오버피팅이 나도 되니까 그냥 뉴런 수를 확 늘려버릴까?!"
      ]
    },
    {
      "cell_type": "markdown",
      "metadata": {
        "id": "3O-Mc1edRf_i"
      },
      "source": [
        "층이 깊어지면 학습이 오히려 안 되는 듯하다"
      ]
    },
    {
      "cell_type": "code",
      "execution_count": 28,
      "metadata": {
        "colab": {
          "base_uri": "https://localhost:8080/"
        },
        "id": "SDkigjBKG1Ap",
        "outputId": "80640a83-5e50-4196-a768-38fed5c634a4"
      },
      "outputs": [
        {
          "name": "stdout",
          "output_type": "stream",
          "text": [
            "Epoch 1/50\n",
            "16788/16788 [==============================] - 506s 30ms/step - loss: 9.0452 - accuracy: 0.0187\n",
            "Epoch 2/50\n",
            "16788/16788 [==============================] - 505s 30ms/step - loss: 8.2937 - accuracy: 0.0427\n",
            "Epoch 3/50\n",
            "16788/16788 [==============================] - 505s 30ms/step - loss: 7.3867 - accuracy: 0.0862\n",
            "Epoch 4/50\n",
            "16788/16788 [==============================] - 506s 30ms/step - loss: 6.4195 - accuracy: 0.1466\n",
            "Epoch 5/50\n",
            "16788/16788 [==============================] - 504s 30ms/step - loss: 5.5613 - accuracy: 0.2094\n",
            "Epoch 6/50\n",
            "16788/16788 [==============================] - 506s 30ms/step - loss: 4.8770 - accuracy: 0.2689\n",
            "Epoch 7/50\n",
            "16788/16788 [==============================] - 509s 30ms/step - loss: 4.3278 - accuracy: 0.3253\n",
            "Epoch 8/50\n",
            "16788/16788 [==============================] - 508s 30ms/step - loss: 3.8991 - accuracy: 0.3753\n",
            "Epoch 9/50\n",
            "16788/16788 [==============================] - 507s 30ms/step - loss: 3.5674 - accuracy: 0.4189\n",
            "Epoch 10/50\n",
            "16788/16788 [==============================] - 508s 30ms/step - loss: 3.3098 - accuracy: 0.4547\n",
            "Epoch 11/50\n",
            "16788/16788 [==============================] - 509s 30ms/step - loss: 3.1111 - accuracy: 0.4832\n",
            "Epoch 12/50\n",
            "16788/16788 [==============================] - 508s 30ms/step - loss: 2.9535 - accuracy: 0.5067\n",
            "Epoch 13/50\n",
            "16788/16788 [==============================] - 508s 30ms/step - loss: 2.8286 - accuracy: 0.5241\n",
            "Epoch 14/50\n",
            "16788/16788 [==============================] - 508s 30ms/step - loss: 2.7324 - accuracy: 0.5390\n",
            "Epoch 15/50\n",
            "16788/16788 [==============================] - 508s 30ms/step - loss: 2.6496 - accuracy: 0.5507\n",
            "Epoch 16/50\n",
            "16788/16788 [==============================] - 507s 30ms/step - loss: 2.5874 - accuracy: 0.5595\n",
            "Epoch 17/50\n",
            "16788/16788 [==============================] - 507s 30ms/step - loss: 2.5273 - accuracy: 0.5682\n",
            "Epoch 18/50\n",
            "16788/16788 [==============================] - 509s 30ms/step - loss: 2.4866 - accuracy: 0.5739\n",
            "Epoch 19/50\n",
            "16788/16788 [==============================] - 507s 30ms/step - loss: 2.4437 - accuracy: 0.5803\n",
            "Epoch 20/50\n",
            "16788/16788 [==============================] - 507s 30ms/step - loss: 2.4084 - accuracy: 0.5843\n",
            "Epoch 21/50\n",
            "16788/16788 [==============================] - 509s 30ms/step - loss: 2.3774 - accuracy: 0.5880\n",
            "Epoch 22/50\n",
            "16788/16788 [==============================] - 508s 30ms/step - loss: 2.3494 - accuracy: 0.5924\n",
            "Epoch 23/50\n",
            "16788/16788 [==============================] - 508s 30ms/step - loss: 2.3284 - accuracy: 0.5945\n",
            "Epoch 24/50\n",
            "16788/16788 [==============================] - 508s 30ms/step - loss: 2.3054 - accuracy: 0.5976\n",
            "Epoch 25/50\n",
            "16788/16788 [==============================] - 509s 30ms/step - loss: 2.2885 - accuracy: 0.5996\n",
            "Epoch 26/50\n",
            "16788/16788 [==============================] - 508s 30ms/step - loss: 2.2685 - accuracy: 0.6016\n",
            "Epoch 27/50\n",
            "16788/16788 [==============================] - 508s 30ms/step - loss: 2.2552 - accuracy: 0.6035\n",
            "Epoch 28/50\n",
            "16788/16788 [==============================] - 509s 30ms/step - loss: 2.2373 - accuracy: 0.6057\n",
            "Epoch 29/50\n",
            "16788/16788 [==============================] - 508s 30ms/step - loss: 2.2247 - accuracy: 0.6069\n",
            "Epoch 30/50\n",
            "16788/16788 [==============================] - 509s 30ms/step - loss: 2.2084 - accuracy: 0.6083\n",
            "Epoch 31/50\n",
            "16788/16788 [==============================] - 508s 30ms/step - loss: 2.1995 - accuracy: 0.6091\n",
            "Epoch 32/50\n",
            "16788/16788 [==============================] - 509s 30ms/step - loss: 2.1863 - accuracy: 0.6104\n",
            "Epoch 33/50\n",
            "16788/16788 [==============================] - 508s 30ms/step - loss: 2.1774 - accuracy: 0.6115\n",
            "Epoch 34/50\n",
            "16788/16788 [==============================] - 509s 30ms/step - loss: 2.1766 - accuracy: 0.6108\n",
            "Epoch 35/50\n",
            "16788/16788 [==============================] - 508s 30ms/step - loss: 2.1714 - accuracy: 0.6113\n",
            "Epoch 36/50\n",
            "16788/16788 [==============================] - 508s 30ms/step - loss: 2.1677 - accuracy: 0.6120\n",
            "Epoch 37/50\n",
            "16788/16788 [==============================] - 508s 30ms/step - loss: 2.1598 - accuracy: 0.6130\n",
            "Epoch 38/50\n",
            "16788/16788 [==============================] - 507s 30ms/step - loss: 2.1552 - accuracy: 0.6136\n",
            "Epoch 39/50\n",
            "16788/16788 [==============================] - 509s 30ms/step - loss: 2.1462 - accuracy: 0.6146\n",
            "Epoch 40/50\n",
            "16788/16788 [==============================] - 508s 30ms/step - loss: 2.1390 - accuracy: 0.6162\n",
            "Epoch 41/50\n",
            "16788/16788 [==============================] - 509s 30ms/step - loss: 2.1268 - accuracy: 0.6166\n",
            "Epoch 42/50\n",
            "16788/16788 [==============================] - 501s 30ms/step - loss: 2.1284 - accuracy: 0.6161\n",
            "Epoch 43/50\n",
            "16788/16788 [==============================] - 501s 30ms/step - loss: 2.1287 - accuracy: 0.6160\n",
            "Epoch 44/50\n",
            "16788/16788 [==============================] - 507s 30ms/step - loss: 2.1240 - accuracy: 0.6165\n",
            "Epoch 45/50\n",
            "16788/16788 [==============================] - 508s 30ms/step - loss: 2.1162 - accuracy: 0.6167\n",
            "Epoch 46/50\n",
            "16788/16788 [==============================] - 501s 30ms/step - loss: 2.1225 - accuracy: 0.6163\n",
            "Epoch 47/50\n",
            "16788/16788 [==============================] - 508s 30ms/step - loss: 2.1097 - accuracy: 0.6181\n",
            "Epoch 48/50\n",
            "16788/16788 [==============================] - 501s 30ms/step - loss: 2.1151 - accuracy: 0.6172\n",
            "Epoch 49/50\n",
            "16788/16788 [==============================] - 502s 30ms/step - loss: 2.1120 - accuracy: 0.6170\n",
            "Epoch 50/50\n",
            "16788/16788 [==============================] - 509s 30ms/step - loss: 2.1090 - accuracy: 0.6174\n"
          ]
        },
        {
          "data": {
            "text/plain": [
              "<keras.callbacks.History at 0x7f8c6c886890>"
            ]
          },
          "execution_count": 28,
          "metadata": {},
          "output_type": "execute_result"
        }
      ],
      "source": [
        "ckp = ModelCheckpoint(filepath = '/content/drive/MyDrive/프로젝트/모델/LSTM4.h5', monitor = 'loss', save_best_only = True)\n",
        "m.fit(X,y, epochs = 50, callbacks = [ckp])"
      ]
    }
  ],
  "metadata": {
    "accelerator": "GPU",
    "colab": {
      "machine_shape": "hm",
      "name": "LSTM.ipynb",
      "provenance": []
    },
    "gpuClass": "standard",
    "kernelspec": {
      "display_name": "Python 3.9.12 ('base')",
      "language": "python",
      "name": "python3"
    },
    "language_info": {
      "name": "python",
      "version": "3.9.12"
    },
    "vscode": {
      "interpreter": {
        "hash": "ff4f85d6e04298634172ac5d8264e7e9b556b95639fe52ebb9425c4d4cba0c9c"
      }
    }
  },
  "nbformat": 4,
  "nbformat_minor": 0
}
