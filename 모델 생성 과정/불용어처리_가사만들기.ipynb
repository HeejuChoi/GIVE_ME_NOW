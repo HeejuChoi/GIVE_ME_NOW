{
  "nbformat": 4,
  "nbformat_minor": 0,
  "metadata": {
    "colab": {
      "name": "불용어처리_가사만들기.ipynb",
      "provenance": [],
      "collapsed_sections": [],
      "machine_shape": "hm"
    },
    "kernelspec": {
      "name": "python3",
      "display_name": "Python 3"
    },
    "language_info": {
      "name": "python"
    },
    "gpuClass": "standard"
  },
  "cells": [
    {
      "cell_type": "code",
      "execution_count": 1,
      "metadata": {
        "colab": {
          "base_uri": "https://localhost:8080/"
        },
        "id": "aO9Cxi8ObNsd",
        "outputId": "3b0eade0-033a-4c97-9be3-d02cc6265e3c"
      },
      "outputs": [
        {
          "output_type": "stream",
          "name": "stdout",
          "text": [
            "Mounted at /content/drive\n"
          ]
        }
      ],
      "source": [
        "from google.colab import drive\n",
        "drive.mount('/content/drive')"
      ]
    },
    {
      "cell_type": "code",
      "source": [
        "import pickle\n",
        "import pandas as pd\n",
        "import numpy as np"
      ],
      "metadata": {
        "id": "0SKIZtnhbgU5"
      },
      "execution_count": 2,
      "outputs": []
    },
    {
      "cell_type": "code",
      "source": [
        "from tensorflow.keras.preprocessing.text import Tokenizer\n",
        "from tensorflow.keras.preprocessing.sequence import pad_sequences\n",
        "from tensorflow.keras.models import load_model"
      ],
      "metadata": {
        "id": "ZeCCL52vbheZ"
      },
      "execution_count": 3,
      "outputs": []
    },
    {
      "cell_type": "code",
      "source": [
        "with open('/content/drive/MyDrive/프로젝트/data/KLyricSentenceDFFinal.p', 'rb') as f:\n",
        "    df = pickle.load(f)\n",
        "df"
      ],
      "metadata": {
        "colab": {
          "base_uri": "https://localhost:8080/",
          "height": 641
        },
        "id": "E4FfrMTFboXJ",
        "outputId": "b1bb0e12-f178-4919-84d2-b44724e2c1bd"
      },
      "execution_count": 4,
      "outputs": [
        {
          "output_type": "execute_result",
          "data": {
            "text/plain": [
              "                    title       artist  \\\n",
              "0                 내 손을 잡아          아이유   \n",
              "1     너의 모든 순간 (Original)          성시경   \n",
              "2                Timeless       SG 워너비   \n",
              "3            바람이 불었으면 좋겠어         길구봉구   \n",
              "4              봄 사랑 벚꽃 말고  HIGH4 (하이포)   \n",
              "...                   ...          ...   \n",
              "3391                   소녀           뮤뭉   \n",
              "3392       꿈처럼 이내 사라져 버리네          박연두   \n",
              "3393               과일가게총각   나날(NaaNaL)   \n",
              "3394             Attitude          이보람   \n",
              "3395                  바다야          홍준영   \n",
              "\n",
              "                                                  lyric  genre  \n",
              "0     [느낌이 오잖아, 떨리고 있잖아, 언제까지 눈치만 볼 거니, 네 맘을 말해봐, 딴청...  balad  \n",
              "1     [이윽고 내가 한눈에, 너를 알아봤을 때, 모든 건 분명 달라지고 있었어, 내 세상...  balad  \n",
              "2     [어쩜 살아가다 보면, 한 번은 날 찾을지 몰라, 난 그 기대 하나로, 오늘도 힘겹...  balad  \n",
              "3     [웃는 모습이 너무 아름다운, 그런 너를 기억하면서, 괜찮아 넌 잘할거라 말하던, ...  balad  \n",
              "4     [길었던 겨우내 줄곧 품이 좀 남는, 밤색 코트, 그 속에 나를 쏙 감추고 걸음을,...  balad  \n",
              "...                                                 ...    ...  \n",
              "3391  [손만 닿아도 떨어져버릴 것 같은, 꽃잎 같은 모습을 하고 있는 널 보았어, 아 소...   folk  \n",
              "3392  [바람은 기억하고 있었고, 바다는 널 품에 안고 있었어, 우리는 늘 그렇듯 살며 잊...   folk  \n",
              "3393  [우리 동네 과일가게에서, 일하는 총각이 좋아, 갈색머리 우렁찬 목소리에, 나는 빠...   folk  \n",
              "3394  [빼곡히도 적어 놓았던, 알 수 없던 나의 생각들이, 점점 줄어드는 공간이, 마침표...   folk  \n",
              "3395  [바다야, 너는 아니, 이곳은 너와 나의 첫 만남이었어, 바다야, 너는 아니, 이곳...   folk  \n",
              "\n",
              "[5515 rows x 4 columns]"
            ],
            "text/html": [
              "\n",
              "  <div id=\"df-af1e8773-38ee-41ed-9e54-d6e7e779b6f9\">\n",
              "    <div class=\"colab-df-container\">\n",
              "      <div>\n",
              "<style scoped>\n",
              "    .dataframe tbody tr th:only-of-type {\n",
              "        vertical-align: middle;\n",
              "    }\n",
              "\n",
              "    .dataframe tbody tr th {\n",
              "        vertical-align: top;\n",
              "    }\n",
              "\n",
              "    .dataframe thead th {\n",
              "        text-align: right;\n",
              "    }\n",
              "</style>\n",
              "<table border=\"1\" class=\"dataframe\">\n",
              "  <thead>\n",
              "    <tr style=\"text-align: right;\">\n",
              "      <th></th>\n",
              "      <th>title</th>\n",
              "      <th>artist</th>\n",
              "      <th>lyric</th>\n",
              "      <th>genre</th>\n",
              "    </tr>\n",
              "  </thead>\n",
              "  <tbody>\n",
              "    <tr>\n",
              "      <th>0</th>\n",
              "      <td>내 손을 잡아</td>\n",
              "      <td>아이유</td>\n",
              "      <td>[느낌이 오잖아, 떨리고 있잖아, 언제까지 눈치만 볼 거니, 네 맘을 말해봐, 딴청...</td>\n",
              "      <td>balad</td>\n",
              "    </tr>\n",
              "    <tr>\n",
              "      <th>1</th>\n",
              "      <td>너의 모든 순간 (Original)</td>\n",
              "      <td>성시경</td>\n",
              "      <td>[이윽고 내가 한눈에, 너를 알아봤을 때, 모든 건 분명 달라지고 있었어, 내 세상...</td>\n",
              "      <td>balad</td>\n",
              "    </tr>\n",
              "    <tr>\n",
              "      <th>2</th>\n",
              "      <td>Timeless</td>\n",
              "      <td>SG 워너비</td>\n",
              "      <td>[어쩜 살아가다 보면, 한 번은 날 찾을지 몰라, 난 그 기대 하나로, 오늘도 힘겹...</td>\n",
              "      <td>balad</td>\n",
              "    </tr>\n",
              "    <tr>\n",
              "      <th>3</th>\n",
              "      <td>바람이 불었으면 좋겠어</td>\n",
              "      <td>길구봉구</td>\n",
              "      <td>[웃는 모습이 너무 아름다운, 그런 너를 기억하면서, 괜찮아 넌 잘할거라 말하던, ...</td>\n",
              "      <td>balad</td>\n",
              "    </tr>\n",
              "    <tr>\n",
              "      <th>4</th>\n",
              "      <td>봄 사랑 벚꽃 말고</td>\n",
              "      <td>HIGH4 (하이포)</td>\n",
              "      <td>[길었던 겨우내 줄곧 품이 좀 남는, 밤색 코트, 그 속에 나를 쏙 감추고 걸음을,...</td>\n",
              "      <td>balad</td>\n",
              "    </tr>\n",
              "    <tr>\n",
              "      <th>...</th>\n",
              "      <td>...</td>\n",
              "      <td>...</td>\n",
              "      <td>...</td>\n",
              "      <td>...</td>\n",
              "    </tr>\n",
              "    <tr>\n",
              "      <th>3391</th>\n",
              "      <td>소녀</td>\n",
              "      <td>뮤뭉</td>\n",
              "      <td>[손만 닿아도 떨어져버릴 것 같은, 꽃잎 같은 모습을 하고 있는 널 보았어, 아 소...</td>\n",
              "      <td>folk</td>\n",
              "    </tr>\n",
              "    <tr>\n",
              "      <th>3392</th>\n",
              "      <td>꿈처럼 이내 사라져 버리네</td>\n",
              "      <td>박연두</td>\n",
              "      <td>[바람은 기억하고 있었고, 바다는 널 품에 안고 있었어, 우리는 늘 그렇듯 살며 잊...</td>\n",
              "      <td>folk</td>\n",
              "    </tr>\n",
              "    <tr>\n",
              "      <th>3393</th>\n",
              "      <td>과일가게총각</td>\n",
              "      <td>나날(NaaNaL)</td>\n",
              "      <td>[우리 동네 과일가게에서, 일하는 총각이 좋아, 갈색머리 우렁찬 목소리에, 나는 빠...</td>\n",
              "      <td>folk</td>\n",
              "    </tr>\n",
              "    <tr>\n",
              "      <th>3394</th>\n",
              "      <td>Attitude</td>\n",
              "      <td>이보람</td>\n",
              "      <td>[빼곡히도 적어 놓았던, 알 수 없던 나의 생각들이, 점점 줄어드는 공간이, 마침표...</td>\n",
              "      <td>folk</td>\n",
              "    </tr>\n",
              "    <tr>\n",
              "      <th>3395</th>\n",
              "      <td>바다야</td>\n",
              "      <td>홍준영</td>\n",
              "      <td>[바다야, 너는 아니, 이곳은 너와 나의 첫 만남이었어, 바다야, 너는 아니, 이곳...</td>\n",
              "      <td>folk</td>\n",
              "    </tr>\n",
              "  </tbody>\n",
              "</table>\n",
              "<p>5515 rows × 4 columns</p>\n",
              "</div>\n",
              "      <button class=\"colab-df-convert\" onclick=\"convertToInteractive('df-af1e8773-38ee-41ed-9e54-d6e7e779b6f9')\"\n",
              "              title=\"Convert this dataframe to an interactive table.\"\n",
              "              style=\"display:none;\">\n",
              "        \n",
              "  <svg xmlns=\"http://www.w3.org/2000/svg\" height=\"24px\"viewBox=\"0 0 24 24\"\n",
              "       width=\"24px\">\n",
              "    <path d=\"M0 0h24v24H0V0z\" fill=\"none\"/>\n",
              "    <path d=\"M18.56 5.44l.94 2.06.94-2.06 2.06-.94-2.06-.94-.94-2.06-.94 2.06-2.06.94zm-11 1L8.5 8.5l.94-2.06 2.06-.94-2.06-.94L8.5 2.5l-.94 2.06-2.06.94zm10 10l.94 2.06.94-2.06 2.06-.94-2.06-.94-.94-2.06-.94 2.06-2.06.94z\"/><path d=\"M17.41 7.96l-1.37-1.37c-.4-.4-.92-.59-1.43-.59-.52 0-1.04.2-1.43.59L10.3 9.45l-7.72 7.72c-.78.78-.78 2.05 0 2.83L4 21.41c.39.39.9.59 1.41.59.51 0 1.02-.2 1.41-.59l7.78-7.78 2.81-2.81c.8-.78.8-2.07 0-2.86zM5.41 20L4 18.59l7.72-7.72 1.47 1.35L5.41 20z\"/>\n",
              "  </svg>\n",
              "      </button>\n",
              "      \n",
              "  <style>\n",
              "    .colab-df-container {\n",
              "      display:flex;\n",
              "      flex-wrap:wrap;\n",
              "      gap: 12px;\n",
              "    }\n",
              "\n",
              "    .colab-df-convert {\n",
              "      background-color: #E8F0FE;\n",
              "      border: none;\n",
              "      border-radius: 50%;\n",
              "      cursor: pointer;\n",
              "      display: none;\n",
              "      fill: #1967D2;\n",
              "      height: 32px;\n",
              "      padding: 0 0 0 0;\n",
              "      width: 32px;\n",
              "    }\n",
              "\n",
              "    .colab-df-convert:hover {\n",
              "      background-color: #E2EBFA;\n",
              "      box-shadow: 0px 1px 2px rgba(60, 64, 67, 0.3), 0px 1px 3px 1px rgba(60, 64, 67, 0.15);\n",
              "      fill: #174EA6;\n",
              "    }\n",
              "\n",
              "    [theme=dark] .colab-df-convert {\n",
              "      background-color: #3B4455;\n",
              "      fill: #D2E3FC;\n",
              "    }\n",
              "\n",
              "    [theme=dark] .colab-df-convert:hover {\n",
              "      background-color: #434B5C;\n",
              "      box-shadow: 0px 1px 3px 1px rgba(0, 0, 0, 0.15);\n",
              "      filter: drop-shadow(0px 1px 2px rgba(0, 0, 0, 0.3));\n",
              "      fill: #FFFFFF;\n",
              "    }\n",
              "  </style>\n",
              "\n",
              "      <script>\n",
              "        const buttonEl =\n",
              "          document.querySelector('#df-af1e8773-38ee-41ed-9e54-d6e7e779b6f9 button.colab-df-convert');\n",
              "        buttonEl.style.display =\n",
              "          google.colab.kernel.accessAllowed ? 'block' : 'none';\n",
              "\n",
              "        async function convertToInteractive(key) {\n",
              "          const element = document.querySelector('#df-af1e8773-38ee-41ed-9e54-d6e7e779b6f9');\n",
              "          const dataTable =\n",
              "            await google.colab.kernel.invokeFunction('convertToInteractive',\n",
              "                                                     [key], {});\n",
              "          if (!dataTable) return;\n",
              "\n",
              "          const docLinkHtml = 'Like what you see? Visit the ' +\n",
              "            '<a target=\"_blank\" href=https://colab.research.google.com/notebooks/data_table.ipynb>data table notebook</a>'\n",
              "            + ' to learn more about interactive tables.';\n",
              "          element.innerHTML = '';\n",
              "          dataTable['output_type'] = 'display_data';\n",
              "          await google.colab.output.renderOutput(dataTable, element);\n",
              "          const docLink = document.createElement('div');\n",
              "          docLink.innerHTML = docLinkHtml;\n",
              "          element.appendChild(docLink);\n",
              "        }\n",
              "      </script>\n",
              "    </div>\n",
              "  </div>\n",
              "  "
            ]
          },
          "metadata": {},
          "execution_count": 4
        }
      ]
    },
    {
      "cell_type": "code",
      "source": [
        "with open('/content/drive/MyDrive/프로젝트/모델/tokenizer1.p', 'rb') as f:\n",
        "    tokenizer = pickle.load(f)"
      ],
      "metadata": {
        "id": "3u0M725Tbp_B"
      },
      "execution_count": 5,
      "outputs": []
    },
    {
      "cell_type": "code",
      "source": [
        "m = load_model('/content/drive/MyDrive/프로젝트/모델/LSTM2.h5')"
      ],
      "metadata": {
        "id": "nBDiJPTwbskp"
      },
      "execution_count": 6,
      "outputs": []
    },
    {
      "cell_type": "code",
      "source": [
        "from nltk import ConditionalFreqDist, ConditionalProbDist, MLEProbDist\n",
        "from nltk.util import ngrams"
      ],
      "metadata": {
        "id": "f3ks1NEabuSR"
      },
      "execution_count": 7,
      "outputs": []
    },
    {
      "cell_type": "code",
      "source": [
        "stopwords = ['가', '예', '이', '리가', '하', '오', '지', '도', '마치']"
      ],
      "metadata": {
        "id": "nczqo01OcFHz"
      },
      "execution_count": 64,
      "outputs": []
    },
    {
      "cell_type": "code",
      "source": [
        "x_data = []\n",
        "for i in range(len(df)):\n",
        "    words = ' '.join(df.iloc[i,2]).split()\n",
        "    print(words)\n",
        "    x_data.append([w for w in words if w not in stopwords])"
      ],
      "metadata": {
        "id": "RKoYTgnbbvmZ"
      },
      "execution_count": null,
      "outputs": []
    },
    {
      "cell_type": "code",
      "source": [
        "data_l = []\n",
        "for lyric in x_data:\n",
        "    data = ngrams(lyric, 2, pad_left=True, pad_right = True, left_pad_symbol='SS', right_pad_symbol = 'SE')\n",
        "    data_l += [l for l in data]"
      ],
      "metadata": {
        "id": "NnY93Cssc4qB"
      },
      "execution_count": 66,
      "outputs": []
    },
    {
      "cell_type": "code",
      "source": [
        "cfd = ConditionalFreqDist(data_l)"
      ],
      "metadata": {
        "id": "zzuOiy7wc7Hx"
      },
      "execution_count": 67,
      "outputs": []
    },
    {
      "cell_type": "code",
      "source": [
        "sorted(tokenizer.word_counts.items(), key = lambda x: x[1], reverse = True)[0]"
      ],
      "metadata": {
        "colab": {
          "base_uri": "https://localhost:8080/"
        },
        "id": "0kpbP_Tef6x_",
        "outputId": "446097db-f643-4aeb-ee94-7c53a27f46f0"
      },
      "execution_count": null,
      "outputs": [
        {
          "output_type": "execute_result",
          "data": {
            "text/plain": [
              "('내', 10808)"
            ]
          },
          "metadata": {},
          "execution_count": 53
        }
      ]
    },
    {
      "cell_type": "code",
      "source": [
        "cpd = ConditionalProbDist(cfd, MLEProbDist)"
      ],
      "metadata": {
        "id": "o85jeNsTc8ch"
      },
      "execution_count": 68,
      "outputs": []
    },
    {
      "cell_type": "code",
      "source": [
        "#니다 네요 군요 어요 "
      ],
      "metadata": {
        "id": "snqKpiwJhoBW"
      },
      "execution_count": null,
      "outputs": []
    },
    {
      "cell_type": "code",
      "source": [
        "# 단어 여러개 넣어서 문맥이 있어보이는 척해보기\n",
        "def sentence_generation(current_word, n, cpd = cpd, model = m, tokenizer = tokenizer): # 현재 단어, 반복할 횟수, 모델, 토크나이저 \n",
        "    words = current_word.split()\n",
        "    words_len = len(words)\n",
        "    sentence = ''\n",
        "\n",
        "    for i in range(words_len):\n",
        "        try:\n",
        "            current_word = cpd[words[i]].generate()\n",
        "        except:\n",
        "            current_word = cpd['내'].generate() # 없는 단어라면 가장 많이 등장하는 '내'에서 generate\n",
        "        if words[i][-2] not in '니다네요군요어요잖아':\n",
        "            if i == 0:\n",
        "                sentence = sentence + ' ' + words[i]\n",
        "            else:\n",
        "                sentence = sentence + words[i]\n",
        "        \n",
        "        # n번 반복\n",
        "        for _ in range(n):\n",
        "            encoded = tokenizer.texts_to_sequences([current_word])[0]\n",
        "            encoded = pad_sequences([encoded], maxlen=10-1, padding='pre')\n",
        "\n",
        "            # 입력한 X(현재 단어)에 대해서 y를 예측하고 y(예측한 단어)를 result에 저장.\n",
        "            result = model.predict(encoded, verbose=0)\n",
        "            result = np.argmax(result, axis=1)\n",
        "\n",
        "            for word, index in tokenizer.word_index.items(): \n",
        "                # 만약 예측한 단어와 인덱스와 동일한 단어가 있다면\n",
        "                if index == result:\n",
        "                    break\n",
        "\n",
        "            # 현재 단어 + ' ' + 예측 단어를 현재 단어로 변경\n",
        "            current_word = current_word + ' '  + word\n",
        "\n",
        "            # 예측 단어를 문장에 저장    \n",
        "            sentence = sentence + ' ' + word\n",
        "        \n",
        "        sentence += '\\n'\n",
        "        # sentence = init_word + ' ' + sentence\n",
        "\n",
        "    return sentence[1:]"
      ],
      "metadata": {
        "id": "aDLjCP7ndAPx"
      },
      "execution_count": 16,
      "outputs": []
    },
    {
      "cell_type": "markdown",
      "source": [
        "꼴보기 싫은 단어가 등장하진 않는듯?\n",
        "\n",
        "\n"
      ],
      "metadata": {
        "id": "td2z1Tc-flaw"
      }
    },
    {
      "cell_type": "code",
      "source": [
        "word = input()\n",
        "print(sentence_generation(word, 5))"
      ],
      "metadata": {
        "colab": {
          "base_uri": "https://localhost:8080/"
        },
        "id": "SWva1NgMdCYx",
        "outputId": "55ff192c-5a9e-4b4a-96fc-8d004e13e5b1"
      },
      "execution_count": 17,
      "outputs": [
        {
          "output_type": "stream",
          "name": "stdout",
          "text": [
            "집에 갈까 한다\n",
            "집에 내 머리맡에 싶을 쉬네 어디에\n",
            "갈까 날에 생각나 어딘지를 몰라 몰라\n",
            "한다 내게 잡고 바닷가 기억들도 위\n",
            "\n"
          ]
        }
      ]
    },
    {
      "cell_type": "code",
      "source": [
        "cfd['휴가']"
      ],
      "metadata": {
        "colab": {
          "base_uri": "https://localhost:8080/"
        },
        "id": "G0VCXbhlKN6e",
        "outputId": "dcde9dc8-c378-4752-bec5-43ae638f845e"
      },
      "execution_count": 33,
      "outputs": [
        {
          "output_type": "execute_result",
          "data": {
            "text/plain": [
              "FreqDist({'때마다': 2, '하루끝에서': 2, '나왔어': 1, '더': 1, '한': 1, '떠날': 1, '나갈게': 1, '떠났던': 1})"
            ]
          },
          "metadata": {},
          "execution_count": 33
        }
      ]
    },
    {
      "cell_type": "code",
      "source": [
        "cpd['더위'].generate()"
      ],
      "metadata": {
        "colab": {
          "base_uri": "https://localhost:8080/",
          "height": 36
        },
        "id": "IfCTFSAadC_f",
        "outputId": "6879f432-fa5c-4c7c-bd7f-8e28d1751a95"
      },
      "execution_count": 51,
      "outputs": [
        {
          "output_type": "execute_result",
          "data": {
            "text/plain": [
              "'마치'"
            ],
            "application/vnd.google.colaboratory.intrinsic+json": {
              "type": "string"
            }
          },
          "metadata": {},
          "execution_count": 51
        }
      ]
    },
    {
      "cell_type": "markdown",
      "source": [
        "MLED generate를 중간중간 해보기"
      ],
      "metadata": {
        "id": "CUiuI8HHnhjd"
      }
    },
    {
      "cell_type": "code",
      "source": [
        "# 단어 여러개 넣어서 문맥이 있어보이는 척해보기\n",
        "def sentence_generation(current_word, n, cpd = cpd, model = m, tokenizer = tokenizer): # 현재 단어, 반복할 횟수, 모델, 토크나이저 \n",
        "    words = current_word.split()\n",
        "    words_len = len(words)\n",
        "    sentence = ''\n",
        "\n",
        "    for i in range(words_len):\n",
        "        try:\n",
        "            current_word = cpd[words[i]].generate()\n",
        "        except:\n",
        "            current_word = cpd['내'].generate() # 없는 단어라면 가장 많이 등장하는 '내'에서 generate\n",
        "        if words[i][-2] not in '니다네요군요어요잖아싶어':\n",
        "            if i == 0:\n",
        "                sentence = sentence + ' ' + current_word\n",
        "            else:\n",
        "                sentence = sentence + ' ' + current_word\n",
        "        \n",
        "        # n번 반복\n",
        "        for _ in range(n):\n",
        "            encoded = tokenizer.texts_to_sequences([current_word])[0]\n",
        "            encoded = pad_sequences([encoded], maxlen=10-1, padding='pre')\n",
        "\n",
        "            # 입력한 X(현재 단어)에 대해서 y를 예측하고 y(예측한 단어)를 result에 저장.\n",
        "            result = model.predict(encoded, verbose=0)\n",
        "            result = np.argmax(result, axis=1)\n",
        "\n",
        "            for word, index in tokenizer.word_index.items(): \n",
        "                # 만약 예측한 단어와 인덱스와 동일한 단어가 있다면\n",
        "                if index == result:\n",
        "                    break\n",
        "\n",
        "            # 현재 단어 + ' ' + 예측 단어를 현재 단어로 변경\n",
        "            current_word = current_word + ' '  + word\n",
        "\n",
        "            # 예측 단어를 문장에 저장    \n",
        "            sentence = sentence + ' ' + word\n",
        "        \n",
        "        sentence += '\\n'\n",
        "        # sentence = init_word + ' ' + sentence\n",
        "\n",
        "    return sentence[1:]"
      ],
      "metadata": {
        "id": "aSm6iDkgnhPN"
      },
      "execution_count": 69,
      "outputs": []
    },
    {
      "cell_type": "code",
      "source": [
        "word = input()\n",
        "print(sentence_generation(word, 5))"
      ],
      "metadata": {
        "id": "iBBE_vZ6sRuN",
        "colab": {
          "base_uri": "https://localhost:8080/"
        },
        "outputId": "95219f9c-dd00-431e-8fe5-750cf9e700e8"
      },
      "execution_count": 70,
      "outputs": [
        {
          "output_type": "stream",
          "name": "stdout",
          "text": [
            "바다 더위 여름 휴가\n",
            "밀려오는 파도 속에 그치고 나 편하게\n",
            " 덥고 더워 더워 덥다 덥다 춰봐\n",
            " 날씨 더우니까 성질 나는 마당에 한다네\n",
            " 떠났던 듯 말해 줘 건 사랑이라면\n",
            "\n"
          ]
        }
      ]
    },
    {
      "cell_type": "code",
      "source": [
        ""
      ],
      "metadata": {
        "id": "pALjQmfIOSvX"
      },
      "execution_count": null,
      "outputs": []
    }
  ]
}